{
 "cells": [
  {
   "cell_type": "markdown",
   "metadata": {},
   "source": [
    "### Model VAERS Dataset"
   ]
  },
  {
   "cell_type": "code",
   "execution_count": 1,
   "metadata": {},
   "outputs": [
    {
     "name": "stdout",
     "output_type": "stream",
     "text": [
      "Dataset 'studied-brand-266702:vaers_modeled' successfully created.\n"
     ]
    }
   ],
   "source": [
    "dataset_id = \"vaers_modeled\"\n",
    "!bq --location=US mk --dataset {dataset_id}"
   ]
  },
  {
   "cell_type": "markdown",
   "metadata": {},
   "source": [
    "### Split staging Events table into separate entities: Patient table and Adverse_Event table "
   ]
  },
  {
   "cell_type": "markdown",
   "metadata": {},
   "source": [
    "#### Create Patient table"
   ]
  },
  {
   "cell_type": "code",
   "execution_count": 3,
   "metadata": {},
   "outputs": [
    {
     "data": {
      "text/html": [
       "<div>\n",
       "<style scoped>\n",
       "    .dataframe tbody tr th:only-of-type {\n",
       "        vertical-align: middle;\n",
       "    }\n",
       "\n",
       "    .dataframe tbody tr th {\n",
       "        vertical-align: top;\n",
       "    }\n",
       "\n",
       "    .dataframe thead th {\n",
       "        text-align: right;\n",
       "    }\n",
       "</style>\n",
       "<table border=\"1\" class=\"dataframe\">\n",
       "  <thead>\n",
       "    <tr style=\"text-align: right;\">\n",
       "      <th></th>\n",
       "    </tr>\n",
       "  </thead>\n",
       "  <tbody>\n",
       "  </tbody>\n",
       "</table>\n",
       "</div>"
      ],
      "text/plain": [
       "Empty DataFrame\n",
       "Columns: []\n",
       "Index: []"
      ]
     },
     "execution_count": 3,
     "metadata": {},
     "output_type": "execute_result"
    }
   ],
   "source": [
    "%%bigquery\n",
    "create or replace table vaers_modeled.Patient as\n",
    "select DISTINCT ROW_NUMBER() OVER(ORDER BY VAERS_ID) as PATIENT_ID, VAERS_ID, STATE, CAST(AGE_YRS AS INT64) AS AGE_YRS, SEX, ALLERGIES\n",
    "from vaers_staging.Events"
   ]
  },
  {
   "cell_type": "code",
   "execution_count": 6,
   "metadata": {},
   "outputs": [
    {
     "data": {
      "text/html": [
       "<div>\n",
       "<style scoped>\n",
       "    .dataframe tbody tr th:only-of-type {\n",
       "        vertical-align: middle;\n",
       "    }\n",
       "\n",
       "    .dataframe tbody tr th {\n",
       "        vertical-align: top;\n",
       "    }\n",
       "\n",
       "    .dataframe thead th {\n",
       "        text-align: right;\n",
       "    }\n",
       "</style>\n",
       "<table border=\"1\" class=\"dataframe\">\n",
       "  <thead>\n",
       "    <tr style=\"text-align: right;\">\n",
       "      <th></th>\n",
       "      <th>PATIENT_ID</th>\n",
       "      <th>VAERS_ID</th>\n",
       "      <th>STATE</th>\n",
       "      <th>AGE_YRS</th>\n",
       "      <th>SEX</th>\n",
       "      <th>ALLERGIES</th>\n",
       "    </tr>\n",
       "  </thead>\n",
       "  <tbody>\n",
       "    <tr>\n",
       "      <th>0</th>\n",
       "      <td>229</td>\n",
       "      <td>794528</td>\n",
       "      <td>None</td>\n",
       "      <td>NaN</td>\n",
       "      <td>U</td>\n",
       "      <td>None</td>\n",
       "    </tr>\n",
       "    <tr>\n",
       "      <th>1</th>\n",
       "      <td>261</td>\n",
       "      <td>794563</td>\n",
       "      <td>None</td>\n",
       "      <td>NaN</td>\n",
       "      <td>M</td>\n",
       "      <td>None</td>\n",
       "    </tr>\n",
       "    <tr>\n",
       "      <th>2</th>\n",
       "      <td>340</td>\n",
       "      <td>794652</td>\n",
       "      <td>None</td>\n",
       "      <td>NaN</td>\n",
       "      <td>M</td>\n",
       "      <td>None</td>\n",
       "    </tr>\n",
       "    <tr>\n",
       "      <th>3</th>\n",
       "      <td>643</td>\n",
       "      <td>795089</td>\n",
       "      <td>None</td>\n",
       "      <td>NaN</td>\n",
       "      <td>M</td>\n",
       "      <td>None</td>\n",
       "    </tr>\n",
       "    <tr>\n",
       "      <th>4</th>\n",
       "      <td>2002</td>\n",
       "      <td>796889</td>\n",
       "      <td>None</td>\n",
       "      <td>NaN</td>\n",
       "      <td>U</td>\n",
       "      <td>None</td>\n",
       "    </tr>\n",
       "    <tr>\n",
       "      <th>...</th>\n",
       "      <td>...</td>\n",
       "      <td>...</td>\n",
       "      <td>...</td>\n",
       "      <td>...</td>\n",
       "      <td>...</td>\n",
       "      <td>...</td>\n",
       "    </tr>\n",
       "    <tr>\n",
       "      <th>44339</th>\n",
       "      <td>39016</td>\n",
       "      <td>843090</td>\n",
       "      <td>WY</td>\n",
       "      <td>72.0</td>\n",
       "      <td>F</td>\n",
       "      <td>N/A</td>\n",
       "    </tr>\n",
       "    <tr>\n",
       "      <th>44340</th>\n",
       "      <td>40995</td>\n",
       "      <td>845432</td>\n",
       "      <td>WY</td>\n",
       "      <td>73.0</td>\n",
       "      <td>M</td>\n",
       "      <td>Penicillin</td>\n",
       "    </tr>\n",
       "    <tr>\n",
       "      <th>44341</th>\n",
       "      <td>8433</td>\n",
       "      <td>805451</td>\n",
       "      <td>WY</td>\n",
       "      <td>78.0</td>\n",
       "      <td>M</td>\n",
       "      <td>Penicillin; MSG</td>\n",
       "    </tr>\n",
       "    <tr>\n",
       "      <th>44342</th>\n",
       "      <td>38184</td>\n",
       "      <td>842145</td>\n",
       "      <td>WY</td>\n",
       "      <td>80.0</td>\n",
       "      <td>F</td>\n",
       "      <td>Morphine, Percodan, Demerol, Darvocet, codeine</td>\n",
       "    </tr>\n",
       "    <tr>\n",
       "      <th>44343</th>\n",
       "      <td>32905</td>\n",
       "      <td>835902</td>\n",
       "      <td>WY</td>\n",
       "      <td>82.0</td>\n",
       "      <td>F</td>\n",
       "      <td>None</td>\n",
       "    </tr>\n",
       "  </tbody>\n",
       "</table>\n",
       "<p>44344 rows × 6 columns</p>\n",
       "</div>"
      ],
      "text/plain": [
       "       PATIENT_ID  VAERS_ID STATE  AGE_YRS SEX  \\\n",
       "0             229    794528  None      NaN   U   \n",
       "1             261    794563  None      NaN   M   \n",
       "2             340    794652  None      NaN   M   \n",
       "3             643    795089  None      NaN   M   \n",
       "4            2002    796889  None      NaN   U   \n",
       "...           ...       ...   ...      ...  ..   \n",
       "44339       39016    843090    WY     72.0   F   \n",
       "44340       40995    845432    WY     73.0   M   \n",
       "44341        8433    805451    WY     78.0   M   \n",
       "44342       38184    842145    WY     80.0   F   \n",
       "44343       32905    835902    WY     82.0   F   \n",
       "\n",
       "                                            ALLERGIES  \n",
       "0                                                None  \n",
       "1                                                None  \n",
       "2                                                None  \n",
       "3                                                None  \n",
       "4                                                None  \n",
       "...                                               ...  \n",
       "44339                                             N/A  \n",
       "44340                                      Penicillin  \n",
       "44341                                 Penicillin; MSG  \n",
       "44342  Morphine, Percodan, Demerol, Darvocet, codeine  \n",
       "44343                                            None  \n",
       "\n",
       "[44344 rows x 6 columns]"
      ]
     },
     "execution_count": 6,
     "metadata": {},
     "output_type": "execute_result"
    }
   ],
   "source": [
    "%%bigquery\n",
    "select * from vaers_modeled.Patient"
   ]
  },
  {
   "cell_type": "markdown",
   "metadata": {},
   "source": [
    "#### Create Adverse_Event table"
   ]
  },
  {
   "cell_type": "code",
   "execution_count": 5,
   "metadata": {},
   "outputs": [
    {
     "data": {
      "text/html": [
       "<div>\n",
       "<style scoped>\n",
       "    .dataframe tbody tr th:only-of-type {\n",
       "        vertical-align: middle;\n",
       "    }\n",
       "\n",
       "    .dataframe tbody tr th {\n",
       "        vertical-align: top;\n",
       "    }\n",
       "\n",
       "    .dataframe thead th {\n",
       "        text-align: right;\n",
       "    }\n",
       "</style>\n",
       "<table border=\"1\" class=\"dataframe\">\n",
       "  <thead>\n",
       "    <tr style=\"text-align: right;\">\n",
       "      <th></th>\n",
       "    </tr>\n",
       "  </thead>\n",
       "  <tbody>\n",
       "  </tbody>\n",
       "</table>\n",
       "</div>"
      ],
      "text/plain": [
       "Empty DataFrame\n",
       "Columns: []\n",
       "Index: []"
      ]
     },
     "execution_count": 5,
     "metadata": {},
     "output_type": "execute_result"
    }
   ],
   "source": [
    "%%bigquery\n",
    "create table vaers_modeled.Adverse_Event as\n",
    "select VAERS_ID, ONSET_DATE, RECOVD, DIED, DATEDIED, L_THREAT, OFC_VISIT, ER_VISIT, ER_ED_VISIT, HOSPITAL, HOSPDAYS, X_STAY, DISABLE, BIRTH_DEFECT, OTHER_MEDS, CUR_ILL, HISTORY, PRIOR_VAX \n",
    "from vaers_staging.Events"
   ]
  },
  {
   "cell_type": "code",
   "execution_count": 6,
   "metadata": {},
   "outputs": [
    {
     "data": {
      "text/html": [
       "<div>\n",
       "<style scoped>\n",
       "    .dataframe tbody tr th:only-of-type {\n",
       "        vertical-align: middle;\n",
       "    }\n",
       "\n",
       "    .dataframe tbody tr th {\n",
       "        vertical-align: top;\n",
       "    }\n",
       "\n",
       "    .dataframe thead th {\n",
       "        text-align: right;\n",
       "    }\n",
       "</style>\n",
       "<table border=\"1\" class=\"dataframe\">\n",
       "  <thead>\n",
       "    <tr style=\"text-align: right;\">\n",
       "      <th></th>\n",
       "      <th>VAERS_ID</th>\n",
       "      <th>ONSET_DATE</th>\n",
       "      <th>RECOVD</th>\n",
       "      <th>DIED</th>\n",
       "      <th>DATEDIED</th>\n",
       "      <th>L_THREAT</th>\n",
       "      <th>OFC_VISIT</th>\n",
       "      <th>ER_VISIT</th>\n",
       "      <th>ER_ED_VISIT</th>\n",
       "      <th>HOSPITAL</th>\n",
       "      <th>HOSPDAYS</th>\n",
       "      <th>X_STAY</th>\n",
       "      <th>DISABLE</th>\n",
       "      <th>BIRTH_DEFECT</th>\n",
       "      <th>OTHER_MEDS</th>\n",
       "      <th>CUR_ILL</th>\n",
       "      <th>HISTORY</th>\n",
       "      <th>PRIOR_VAX</th>\n",
       "    </tr>\n",
       "  </thead>\n",
       "  <tbody>\n",
       "    <tr>\n",
       "      <th>0</th>\n",
       "      <td>794804</td>\n",
       "      <td>None</td>\n",
       "      <td>N</td>\n",
       "      <td>None</td>\n",
       "      <td>None</td>\n",
       "      <td>None</td>\n",
       "      <td>True</td>\n",
       "      <td>None</td>\n",
       "      <td>None</td>\n",
       "      <td>True</td>\n",
       "      <td>NaN</td>\n",
       "      <td>None</td>\n",
       "      <td>None</td>\n",
       "      <td>None</td>\n",
       "      <td>None</td>\n",
       "      <td>None</td>\n",
       "      <td>None</td>\n",
       "      <td>None</td>\n",
       "    </tr>\n",
       "    <tr>\n",
       "      <th>1</th>\n",
       "      <td>795533</td>\n",
       "      <td>None</td>\n",
       "      <td>N</td>\n",
       "      <td>None</td>\n",
       "      <td>None</td>\n",
       "      <td>None</td>\n",
       "      <td>True</td>\n",
       "      <td>None</td>\n",
       "      <td>None</td>\n",
       "      <td>True</td>\n",
       "      <td>NaN</td>\n",
       "      <td>None</td>\n",
       "      <td>None</td>\n",
       "      <td>None</td>\n",
       "      <td>None</td>\n",
       "      <td>None</td>\n",
       "      <td>None</td>\n",
       "      <td>None</td>\n",
       "    </tr>\n",
       "    <tr>\n",
       "      <th>2</th>\n",
       "      <td>795798</td>\n",
       "      <td>None</td>\n",
       "      <td>U</td>\n",
       "      <td>None</td>\n",
       "      <td>None</td>\n",
       "      <td>None</td>\n",
       "      <td>None</td>\n",
       "      <td>None</td>\n",
       "      <td>None</td>\n",
       "      <td>None</td>\n",
       "      <td>NaN</td>\n",
       "      <td>None</td>\n",
       "      <td>None</td>\n",
       "      <td>None</td>\n",
       "      <td>None</td>\n",
       "      <td>None</td>\n",
       "      <td>None</td>\n",
       "      <td>None</td>\n",
       "    </tr>\n",
       "    <tr>\n",
       "      <th>3</th>\n",
       "      <td>796623</td>\n",
       "      <td>None</td>\n",
       "      <td>U</td>\n",
       "      <td>None</td>\n",
       "      <td>None</td>\n",
       "      <td>None</td>\n",
       "      <td>True</td>\n",
       "      <td>None</td>\n",
       "      <td>None</td>\n",
       "      <td>None</td>\n",
       "      <td>NaN</td>\n",
       "      <td>None</td>\n",
       "      <td>None</td>\n",
       "      <td>None</td>\n",
       "      <td>None</td>\n",
       "      <td>None</td>\n",
       "      <td>None</td>\n",
       "      <td>None</td>\n",
       "    </tr>\n",
       "    <tr>\n",
       "      <th>4</th>\n",
       "      <td>798695</td>\n",
       "      <td>None</td>\n",
       "      <td>Y</td>\n",
       "      <td>None</td>\n",
       "      <td>None</td>\n",
       "      <td>None</td>\n",
       "      <td>None</td>\n",
       "      <td>None</td>\n",
       "      <td>None</td>\n",
       "      <td>None</td>\n",
       "      <td>NaN</td>\n",
       "      <td>None</td>\n",
       "      <td>None</td>\n",
       "      <td>None</td>\n",
       "      <td>None</td>\n",
       "      <td>None</td>\n",
       "      <td>None</td>\n",
       "      <td>None</td>\n",
       "    </tr>\n",
       "    <tr>\n",
       "      <th>...</th>\n",
       "      <td>...</td>\n",
       "      <td>...</td>\n",
       "      <td>...</td>\n",
       "      <td>...</td>\n",
       "      <td>...</td>\n",
       "      <td>...</td>\n",
       "      <td>...</td>\n",
       "      <td>...</td>\n",
       "      <td>...</td>\n",
       "      <td>...</td>\n",
       "      <td>...</td>\n",
       "      <td>...</td>\n",
       "      <td>...</td>\n",
       "      <td>...</td>\n",
       "      <td>...</td>\n",
       "      <td>...</td>\n",
       "      <td>...</td>\n",
       "      <td>...</td>\n",
       "    </tr>\n",
       "    <tr>\n",
       "      <th>44339</th>\n",
       "      <td>839265</td>\n",
       "      <td>2019-10-06</td>\n",
       "      <td>Y</td>\n",
       "      <td>None</td>\n",
       "      <td>None</td>\n",
       "      <td>None</td>\n",
       "      <td>True</td>\n",
       "      <td>None</td>\n",
       "      <td>None</td>\n",
       "      <td>None</td>\n",
       "      <td>NaN</td>\n",
       "      <td>None</td>\n",
       "      <td>None</td>\n",
       "      <td>None</td>\n",
       "      <td>I was in a car accident in June, needed surger...</td>\n",
       "      <td>See item #9 re: the car accident and low B12</td>\n",
       "      <td>IBS, sensitive to drugs and foods, low blood p...</td>\n",
       "      <td>generally pain in the arm after certain shots</td>\n",
       "    </tr>\n",
       "    <tr>\n",
       "      <th>44340</th>\n",
       "      <td>838596</td>\n",
       "      <td>2019-10-06</td>\n",
       "      <td>N</td>\n",
       "      <td>None</td>\n",
       "      <td>None</td>\n",
       "      <td>None</td>\n",
       "      <td>None</td>\n",
       "      <td>None</td>\n",
       "      <td>None</td>\n",
       "      <td>None</td>\n",
       "      <td>NaN</td>\n",
       "      <td>None</td>\n",
       "      <td>None</td>\n",
       "      <td>None</td>\n",
       "      <td>Adderall 10 mg Toujeo 80U Short-acting insulin...</td>\n",
       "      <td>Well-managed T2D. No recent medication changes</td>\n",
       "      <td>Type-2 diabetes Bipolar disorder type 2 Adult ADD</td>\n",
       "      <td>None</td>\n",
       "    </tr>\n",
       "    <tr>\n",
       "      <th>44341</th>\n",
       "      <td>839769</td>\n",
       "      <td>2019-10-06</td>\n",
       "      <td>U</td>\n",
       "      <td>None</td>\n",
       "      <td>None</td>\n",
       "      <td>None</td>\n",
       "      <td>None</td>\n",
       "      <td>None</td>\n",
       "      <td>None</td>\n",
       "      <td>None</td>\n",
       "      <td>NaN</td>\n",
       "      <td>None</td>\n",
       "      <td>None</td>\n",
       "      <td>None</td>\n",
       "      <td>Lorazepam 0.1 as needed, Not every day:Multi-V...</td>\n",
       "      <td>Patient was fine the day of vaccine but had ba...</td>\n",
       "      <td>Had surgery on left arm (detached bicep and ro...</td>\n",
       "      <td>None</td>\n",
       "    </tr>\n",
       "    <tr>\n",
       "      <th>44342</th>\n",
       "      <td>848745</td>\n",
       "      <td>2019-10-06</td>\n",
       "      <td>N</td>\n",
       "      <td>None</td>\n",
       "      <td>None</td>\n",
       "      <td>None</td>\n",
       "      <td>True</td>\n",
       "      <td>None</td>\n",
       "      <td>True</td>\n",
       "      <td>True</td>\n",
       "      <td>24.0</td>\n",
       "      <td>None</td>\n",
       "      <td>True</td>\n",
       "      <td>None</td>\n",
       "      <td>aspirin 81 MG tab     Sig: � Take 81 mg by mou...</td>\n",
       "      <td>Patient had no previously been seen in clinic ...</td>\n",
       "      <td>Hypertension   HLD (hyperlipidemia)   Allergic...</td>\n",
       "      <td>None</td>\n",
       "    </tr>\n",
       "    <tr>\n",
       "      <th>44343</th>\n",
       "      <td>839373</td>\n",
       "      <td>2019-10-06</td>\n",
       "      <td>Y</td>\n",
       "      <td>None</td>\n",
       "      <td>None</td>\n",
       "      <td>None</td>\n",
       "      <td>None</td>\n",
       "      <td>None</td>\n",
       "      <td>None</td>\n",
       "      <td>None</td>\n",
       "      <td>NaN</td>\n",
       "      <td>None</td>\n",
       "      <td>None</td>\n",
       "      <td>None</td>\n",
       "      <td>Benadryl, started 3 days prior to vaccine.</td>\n",
       "      <td>Same reported reaction to Tdap vaccine given t...</td>\n",
       "      <td>Reported reaction to vaccines per mother since...</td>\n",
       "      <td>Please see previous description.</td>\n",
       "    </tr>\n",
       "  </tbody>\n",
       "</table>\n",
       "<p>44344 rows × 18 columns</p>\n",
       "</div>"
      ],
      "text/plain": [
       "       VAERS_ID  ONSET_DATE RECOVD  DIED DATEDIED L_THREAT OFC_VISIT ER_VISIT  \\\n",
       "0        794804        None      N  None     None     None      True     None   \n",
       "1        795533        None      N  None     None     None      True     None   \n",
       "2        795798        None      U  None     None     None      None     None   \n",
       "3        796623        None      U  None     None     None      True     None   \n",
       "4        798695        None      Y  None     None     None      None     None   \n",
       "...         ...         ...    ...   ...      ...      ...       ...      ...   \n",
       "44339    839265  2019-10-06      Y  None     None     None      True     None   \n",
       "44340    838596  2019-10-06      N  None     None     None      None     None   \n",
       "44341    839769  2019-10-06      U  None     None     None      None     None   \n",
       "44342    848745  2019-10-06      N  None     None     None      True     None   \n",
       "44343    839373  2019-10-06      Y  None     None     None      None     None   \n",
       "\n",
       "      ER_ED_VISIT HOSPITAL  HOSPDAYS X_STAY DISABLE BIRTH_DEFECT  \\\n",
       "0            None     True       NaN   None    None         None   \n",
       "1            None     True       NaN   None    None         None   \n",
       "2            None     None       NaN   None    None         None   \n",
       "3            None     None       NaN   None    None         None   \n",
       "4            None     None       NaN   None    None         None   \n",
       "...           ...      ...       ...    ...     ...          ...   \n",
       "44339        None     None       NaN   None    None         None   \n",
       "44340        None     None       NaN   None    None         None   \n",
       "44341        None     None       NaN   None    None         None   \n",
       "44342        True     True      24.0   None    True         None   \n",
       "44343        None     None       NaN   None    None         None   \n",
       "\n",
       "                                              OTHER_MEDS  \\\n",
       "0                                                   None   \n",
       "1                                                   None   \n",
       "2                                                   None   \n",
       "3                                                   None   \n",
       "4                                                   None   \n",
       "...                                                  ...   \n",
       "44339  I was in a car accident in June, needed surger...   \n",
       "44340  Adderall 10 mg Toujeo 80U Short-acting insulin...   \n",
       "44341  Lorazepam 0.1 as needed, Not every day:Multi-V...   \n",
       "44342  aspirin 81 MG tab     Sig: � Take 81 mg by mou...   \n",
       "44343         Benadryl, started 3 days prior to vaccine.   \n",
       "\n",
       "                                                 CUR_ILL  \\\n",
       "0                                                   None   \n",
       "1                                                   None   \n",
       "2                                                   None   \n",
       "3                                                   None   \n",
       "4                                                   None   \n",
       "...                                                  ...   \n",
       "44339       See item #9 re: the car accident and low B12   \n",
       "44340     Well-managed T2D. No recent medication changes   \n",
       "44341  Patient was fine the day of vaccine but had ba...   \n",
       "44342  Patient had no previously been seen in clinic ...   \n",
       "44343  Same reported reaction to Tdap vaccine given t...   \n",
       "\n",
       "                                                 HISTORY  \\\n",
       "0                                                   None   \n",
       "1                                                   None   \n",
       "2                                                   None   \n",
       "3                                                   None   \n",
       "4                                                   None   \n",
       "...                                                  ...   \n",
       "44339  IBS, sensitive to drugs and foods, low blood p...   \n",
       "44340  Type-2 diabetes Bipolar disorder type 2 Adult ADD   \n",
       "44341  Had surgery on left arm (detached bicep and ro...   \n",
       "44342  Hypertension   HLD (hyperlipidemia)   Allergic...   \n",
       "44343  Reported reaction to vaccines per mother since...   \n",
       "\n",
       "                                           PRIOR_VAX  \n",
       "0                                               None  \n",
       "1                                               None  \n",
       "2                                               None  \n",
       "3                                               None  \n",
       "4                                               None  \n",
       "...                                              ...  \n",
       "44339  generally pain in the arm after certain shots  \n",
       "44340                                           None  \n",
       "44341                                           None  \n",
       "44342                                           None  \n",
       "44343               Please see previous description.  \n",
       "\n",
       "[44344 rows x 18 columns]"
      ]
     },
     "execution_count": 6,
     "metadata": {},
     "output_type": "execute_result"
    }
   ],
   "source": [
    "%%bigquery\n",
    "select * from vaers_modeled.Adverse_Event"
   ]
  },
  {
   "cell_type": "markdown",
   "metadata": {},
   "source": [
    "### Generate Primary Key for Symptom table. No other changes made to table as Symptom is an entity by itself."
   ]
  },
  {
   "cell_type": "code",
   "execution_count": 7,
   "metadata": {},
   "outputs": [
    {
     "data": {
      "text/html": [
       "<div>\n",
       "<style scoped>\n",
       "    .dataframe tbody tr th:only-of-type {\n",
       "        vertical-align: middle;\n",
       "    }\n",
       "\n",
       "    .dataframe tbody tr th {\n",
       "        vertical-align: top;\n",
       "    }\n",
       "\n",
       "    .dataframe thead th {\n",
       "        text-align: right;\n",
       "    }\n",
       "</style>\n",
       "<table border=\"1\" class=\"dataframe\">\n",
       "  <thead>\n",
       "    <tr style=\"text-align: right;\">\n",
       "      <th></th>\n",
       "    </tr>\n",
       "  </thead>\n",
       "  <tbody>\n",
       "  </tbody>\n",
       "</table>\n",
       "</div>"
      ],
      "text/plain": [
       "Empty DataFrame\n",
       "Columns: []\n",
       "Index: []"
      ]
     },
     "execution_count": 7,
     "metadata": {},
     "output_type": "execute_result"
    }
   ],
   "source": [
    "%%bigquery\n",
    "create table vaers_modeled.Symptom as\n",
    "select ROW_NUMBER() OVER(VAERS_ID) as SYMPTOM_ID, VAERS_ID, SYMPTOM1, SYMPTOM2, SYMPTOM3, SYMPTOM4, SYMPTOM5 \n",
    "from vaers_staging.Symptoms"
   ]
  },
  {
   "cell_type": "code",
   "execution_count": 8,
   "metadata": {},
   "outputs": [
    {
     "data": {
      "text/html": [
       "<div>\n",
       "<style scoped>\n",
       "    .dataframe tbody tr th:only-of-type {\n",
       "        vertical-align: middle;\n",
       "    }\n",
       "\n",
       "    .dataframe tbody tr th {\n",
       "        vertical-align: top;\n",
       "    }\n",
       "\n",
       "    .dataframe thead th {\n",
       "        text-align: right;\n",
       "    }\n",
       "</style>\n",
       "<table border=\"1\" class=\"dataframe\">\n",
       "  <thead>\n",
       "    <tr style=\"text-align: right;\">\n",
       "      <th></th>\n",
       "      <th>SYMPTOM_ID</th>\n",
       "      <th>VAERS_ID</th>\n",
       "      <th>SYMPTOM1</th>\n",
       "      <th>SYMPTOM2</th>\n",
       "      <th>SYMPTOM3</th>\n",
       "      <th>SYMPTOM4</th>\n",
       "      <th>SYMPTOM5</th>\n",
       "    </tr>\n",
       "  </thead>\n",
       "  <tbody>\n",
       "    <tr>\n",
       "      <th>0</th>\n",
       "      <td>26</td>\n",
       "      <td>794308</td>\n",
       "      <td>Product administered to patient of inappropria...</td>\n",
       "      <td>None</td>\n",
       "      <td>None</td>\n",
       "      <td>None</td>\n",
       "      <td>None</td>\n",
       "    </tr>\n",
       "    <tr>\n",
       "      <th>1</th>\n",
       "      <td>31</td>\n",
       "      <td>794344</td>\n",
       "      <td>Exposure during pregnancy</td>\n",
       "      <td>None</td>\n",
       "      <td>None</td>\n",
       "      <td>None</td>\n",
       "      <td>None</td>\n",
       "    </tr>\n",
       "    <tr>\n",
       "      <th>2</th>\n",
       "      <td>44</td>\n",
       "      <td>794402</td>\n",
       "      <td>Pain</td>\n",
       "      <td>None</td>\n",
       "      <td>None</td>\n",
       "      <td>None</td>\n",
       "      <td>None</td>\n",
       "    </tr>\n",
       "    <tr>\n",
       "      <th>3</th>\n",
       "      <td>56</td>\n",
       "      <td>794493</td>\n",
       "      <td>Vertigo</td>\n",
       "      <td>None</td>\n",
       "      <td>None</td>\n",
       "      <td>None</td>\n",
       "      <td>None</td>\n",
       "    </tr>\n",
       "    <tr>\n",
       "      <th>4</th>\n",
       "      <td>270</td>\n",
       "      <td>795388</td>\n",
       "      <td>Adverse event</td>\n",
       "      <td>None</td>\n",
       "      <td>None</td>\n",
       "      <td>None</td>\n",
       "      <td>None</td>\n",
       "    </tr>\n",
       "    <tr>\n",
       "      <th>...</th>\n",
       "      <td>...</td>\n",
       "      <td>...</td>\n",
       "      <td>...</td>\n",
       "      <td>...</td>\n",
       "      <td>...</td>\n",
       "      <td>...</td>\n",
       "      <td>...</td>\n",
       "    </tr>\n",
       "    <tr>\n",
       "      <th>55255</th>\n",
       "      <td>54995</td>\n",
       "      <td>844760</td>\n",
       "      <td>Hypoaesthesia</td>\n",
       "      <td>Injected limb mobility decreased</td>\n",
       "      <td>Injection site pain</td>\n",
       "      <td>Paraesthesia</td>\n",
       "      <td>Product administered at inappropriate site</td>\n",
       "    </tr>\n",
       "    <tr>\n",
       "      <th>55256</th>\n",
       "      <td>55040</td>\n",
       "      <td>834189</td>\n",
       "      <td>Arthralgia</td>\n",
       "      <td>Immediate post-injection reaction</td>\n",
       "      <td>Musculoskeletal pain</td>\n",
       "      <td>Nausea</td>\n",
       "      <td>Pain</td>\n",
       "    </tr>\n",
       "    <tr>\n",
       "      <th>55257</th>\n",
       "      <td>55157</td>\n",
       "      <td>833481</td>\n",
       "      <td>Erythema</td>\n",
       "      <td>Extensive swelling of vaccinated limb</td>\n",
       "      <td>Injection site erythema</td>\n",
       "      <td>Injection site swelling</td>\n",
       "      <td>Injection site warmth</td>\n",
       "    </tr>\n",
       "    <tr>\n",
       "      <th>55258</th>\n",
       "      <td>55204</td>\n",
       "      <td>849460</td>\n",
       "      <td>Lymphocyte percentage decreased</td>\n",
       "      <td>Mean cell haemoglobin concentration normal</td>\n",
       "      <td>Mean cell haemoglobin normal</td>\n",
       "      <td>Mean cell volume normal</td>\n",
       "      <td>Mean platelet volume increased</td>\n",
       "    </tr>\n",
       "    <tr>\n",
       "      <th>55259</th>\n",
       "      <td>55208</td>\n",
       "      <td>846190</td>\n",
       "      <td>Pain in extremity</td>\n",
       "      <td>Product administered at inappropriate site</td>\n",
       "      <td>Tendon disorder</td>\n",
       "      <td>Tendon rupture</td>\n",
       "      <td>X-ray limb</td>\n",
       "    </tr>\n",
       "  </tbody>\n",
       "</table>\n",
       "<p>55260 rows × 7 columns</p>\n",
       "</div>"
      ],
      "text/plain": [
       "       SYMPTOM_ID  VAERS_ID  \\\n",
       "0              26    794308   \n",
       "1              31    794344   \n",
       "2              44    794402   \n",
       "3              56    794493   \n",
       "4             270    795388   \n",
       "...           ...       ...   \n",
       "55255       54995    844760   \n",
       "55256       55040    834189   \n",
       "55257       55157    833481   \n",
       "55258       55204    849460   \n",
       "55259       55208    846190   \n",
       "\n",
       "                                                SYMPTOM1  \\\n",
       "0      Product administered to patient of inappropria...   \n",
       "1                              Exposure during pregnancy   \n",
       "2                                                   Pain   \n",
       "3                                                Vertigo   \n",
       "4                                          Adverse event   \n",
       "...                                                  ...   \n",
       "55255                                      Hypoaesthesia   \n",
       "55256                                         Arthralgia   \n",
       "55257                                           Erythema   \n",
       "55258                    Lymphocyte percentage decreased   \n",
       "55259                                  Pain in extremity   \n",
       "\n",
       "                                         SYMPTOM2  \\\n",
       "0                                            None   \n",
       "1                                            None   \n",
       "2                                            None   \n",
       "3                                            None   \n",
       "4                                            None   \n",
       "...                                           ...   \n",
       "55255            Injected limb mobility decreased   \n",
       "55256           Immediate post-injection reaction   \n",
       "55257       Extensive swelling of vaccinated limb   \n",
       "55258  Mean cell haemoglobin concentration normal   \n",
       "55259  Product administered at inappropriate site   \n",
       "\n",
       "                           SYMPTOM3                 SYMPTOM4  \\\n",
       "0                              None                     None   \n",
       "1                              None                     None   \n",
       "2                              None                     None   \n",
       "3                              None                     None   \n",
       "4                              None                     None   \n",
       "...                             ...                      ...   \n",
       "55255           Injection site pain             Paraesthesia   \n",
       "55256          Musculoskeletal pain                   Nausea   \n",
       "55257       Injection site erythema  Injection site swelling   \n",
       "55258  Mean cell haemoglobin normal  Mean cell volume normal   \n",
       "55259               Tendon disorder           Tendon rupture   \n",
       "\n",
       "                                         SYMPTOM5  \n",
       "0                                            None  \n",
       "1                                            None  \n",
       "2                                            None  \n",
       "3                                            None  \n",
       "4                                            None  \n",
       "...                                           ...  \n",
       "55255  Product administered at inappropriate site  \n",
       "55256                                        Pain  \n",
       "55257                       Injection site warmth  \n",
       "55258              Mean platelet volume increased  \n",
       "55259                                  X-ray limb  \n",
       "\n",
       "[55260 rows x 7 columns]"
      ]
     },
     "execution_count": 8,
     "metadata": {},
     "output_type": "execute_result"
    }
   ],
   "source": [
    "%%bigquery\n",
    "select * from vaers_modeled.Symptom"
   ]
  },
  {
   "cell_type": "markdown",
   "metadata": {},
   "source": [
    "### Split staging Vaccines table into separate entities: Vaccine and Manufacturer"
   ]
  },
  {
   "cell_type": "markdown",
   "metadata": {},
   "source": [
    "#### Create Vaccine table"
   ]
  },
  {
   "cell_type": "code",
   "execution_count": 7,
   "metadata": {},
   "outputs": [
    {
     "data": {
      "text/html": [
       "<div>\n",
       "<style scoped>\n",
       "    .dataframe tbody tr th:only-of-type {\n",
       "        vertical-align: middle;\n",
       "    }\n",
       "\n",
       "    .dataframe tbody tr th {\n",
       "        vertical-align: top;\n",
       "    }\n",
       "\n",
       "    .dataframe thead th {\n",
       "        text-align: right;\n",
       "    }\n",
       "</style>\n",
       "<table border=\"1\" class=\"dataframe\">\n",
       "  <thead>\n",
       "    <tr style=\"text-align: right;\">\n",
       "      <th></th>\n",
       "    </tr>\n",
       "  </thead>\n",
       "  <tbody>\n",
       "  </tbody>\n",
       "</table>\n",
       "</div>"
      ],
      "text/plain": [
       "Empty DataFrame\n",
       "Columns: []\n",
       "Index: []"
      ]
     },
     "execution_count": 7,
     "metadata": {},
     "output_type": "execute_result"
    }
   ],
   "source": [
    "%%bigquery\n",
    "create table vaers_modeled.Vaccine as\n",
    "select ROW_NUMBER() OVER(ORDER BY VAX_NAME) as VAX_ID, VAX_NAME, VAX_TYPE\n",
    "from vaers_staging.Vaccines\n",
    "group by VAX_NAME, VAX_TYPE"
   ]
  },
  {
   "cell_type": "code",
   "execution_count": 23,
   "metadata": {},
   "outputs": [
    {
     "data": {
      "text/html": [
       "<div>\n",
       "<style scoped>\n",
       "    .dataframe tbody tr th:only-of-type {\n",
       "        vertical-align: middle;\n",
       "    }\n",
       "\n",
       "    .dataframe tbody tr th {\n",
       "        vertical-align: top;\n",
       "    }\n",
       "\n",
       "    .dataframe thead th {\n",
       "        text-align: right;\n",
       "    }\n",
       "</style>\n",
       "<table border=\"1\" class=\"dataframe\">\n",
       "  <thead>\n",
       "    <tr style=\"text-align: right;\">\n",
       "      <th></th>\n",
       "      <th>VAX_ID</th>\n",
       "      <th>VAX_NAME</th>\n",
       "      <th>VAX_TYPE</th>\n",
       "    </tr>\n",
       "  </thead>\n",
       "  <tbody>\n",
       "    <tr>\n",
       "      <th>0</th>\n",
       "      <td>1</td>\n",
       "      <td>ADENOVIRUS (NO BRAND NAME)</td>\n",
       "      <td>ADEN</td>\n",
       "    </tr>\n",
       "    <tr>\n",
       "      <th>1</th>\n",
       "      <td>2</td>\n",
       "      <td>ADENOVIRUS TYPES 4 &amp; 7, LIVE, ORAL (NO BRAND N...</td>\n",
       "      <td>ADEN_4_7</td>\n",
       "    </tr>\n",
       "    <tr>\n",
       "      <th>2</th>\n",
       "      <td>3</td>\n",
       "      <td>ANTHRAX (BIOTHRAX)</td>\n",
       "      <td>ANTH</td>\n",
       "    </tr>\n",
       "    <tr>\n",
       "      <th>3</th>\n",
       "      <td>4</td>\n",
       "      <td>ANTHRAX (NO BRAND NAME)</td>\n",
       "      <td>ANTH</td>\n",
       "    </tr>\n",
       "    <tr>\n",
       "      <th>4</th>\n",
       "      <td>5</td>\n",
       "      <td>BCG (NO BRAND NAME)</td>\n",
       "      <td>BCG</td>\n",
       "    </tr>\n",
       "    <tr>\n",
       "      <th>...</th>\n",
       "      <td>...</td>\n",
       "      <td>...</td>\n",
       "      <td>...</td>\n",
       "    </tr>\n",
       "    <tr>\n",
       "      <th>120</th>\n",
       "      <td>121</td>\n",
       "      <td>YELLOW FEVER (STAMARIL)</td>\n",
       "      <td>YF</td>\n",
       "    </tr>\n",
       "    <tr>\n",
       "      <th>121</th>\n",
       "      <td>122</td>\n",
       "      <td>YELLOW FEVER (YF-VAX)</td>\n",
       "      <td>YF</td>\n",
       "    </tr>\n",
       "    <tr>\n",
       "      <th>122</th>\n",
       "      <td>123</td>\n",
       "      <td>ZOSTER (NO BRAND NAME)</td>\n",
       "      <td>VARZOS</td>\n",
       "    </tr>\n",
       "    <tr>\n",
       "      <th>123</th>\n",
       "      <td>124</td>\n",
       "      <td>ZOSTER (SHINGRIX)</td>\n",
       "      <td>VARZOS</td>\n",
       "    </tr>\n",
       "    <tr>\n",
       "      <th>124</th>\n",
       "      <td>125</td>\n",
       "      <td>ZOSTER LIVE (ZOSTAVAX)</td>\n",
       "      <td>VARZOS</td>\n",
       "    </tr>\n",
       "  </tbody>\n",
       "</table>\n",
       "<p>125 rows × 3 columns</p>\n",
       "</div>"
      ],
      "text/plain": [
       "     VAX_ID                                           VAX_NAME  VAX_TYPE\n",
       "0         1                         ADENOVIRUS (NO BRAND NAME)      ADEN\n",
       "1         2  ADENOVIRUS TYPES 4 & 7, LIVE, ORAL (NO BRAND N...  ADEN_4_7\n",
       "2         3                                 ANTHRAX (BIOTHRAX)      ANTH\n",
       "3         4                            ANTHRAX (NO BRAND NAME)      ANTH\n",
       "4         5                                BCG (NO BRAND NAME)       BCG\n",
       "..      ...                                                ...       ...\n",
       "120     121                            YELLOW FEVER (STAMARIL)        YF\n",
       "121     122                              YELLOW FEVER (YF-VAX)        YF\n",
       "122     123                             ZOSTER (NO BRAND NAME)    VARZOS\n",
       "123     124                                  ZOSTER (SHINGRIX)    VARZOS\n",
       "124     125                             ZOSTER LIVE (ZOSTAVAX)    VARZOS\n",
       "\n",
       "[125 rows x 3 columns]"
      ]
     },
     "execution_count": 23,
     "metadata": {},
     "output_type": "execute_result"
    }
   ],
   "source": [
    "%%bigquery\n",
    "select * from vaers_modeled.Vaccine\n",
    "order by VAX_NAME"
   ]
  },
  {
   "cell_type": "markdown",
   "metadata": {},
   "source": [
    "#### Create Manufacturer table"
   ]
  },
  {
   "cell_type": "code",
   "execution_count": 15,
   "metadata": {},
   "outputs": [
    {
     "data": {
      "text/html": [
       "<div>\n",
       "<style scoped>\n",
       "    .dataframe tbody tr th:only-of-type {\n",
       "        vertical-align: middle;\n",
       "    }\n",
       "\n",
       "    .dataframe tbody tr th {\n",
       "        vertical-align: top;\n",
       "    }\n",
       "\n",
       "    .dataframe thead th {\n",
       "        text-align: right;\n",
       "    }\n",
       "</style>\n",
       "<table border=\"1\" class=\"dataframe\">\n",
       "  <thead>\n",
       "    <tr style=\"text-align: right;\">\n",
       "      <th></th>\n",
       "    </tr>\n",
       "  </thead>\n",
       "  <tbody>\n",
       "  </tbody>\n",
       "</table>\n",
       "</div>"
      ],
      "text/plain": [
       "Empty DataFrame\n",
       "Columns: []\n",
       "Index: []"
      ]
     },
     "execution_count": 15,
     "metadata": {},
     "output_type": "execute_result"
    }
   ],
   "source": [
    "%%bigquery\n",
    "create table vaers_modeled.Manufacturer as\n",
    "select ROW_NUMBER() OVER(ORDER BY VAX_MANU) as MANU_ID, VAX_MANU\n",
    "from vaers_staging.Vaccines\n",
    "group by VAX_MANU"
   ]
  },
  {
   "cell_type": "code",
   "execution_count": 17,
   "metadata": {},
   "outputs": [
    {
     "data": {
      "text/html": [
       "<div>\n",
       "<style scoped>\n",
       "    .dataframe tbody tr th:only-of-type {\n",
       "        vertical-align: middle;\n",
       "    }\n",
       "\n",
       "    .dataframe tbody tr th {\n",
       "        vertical-align: top;\n",
       "    }\n",
       "\n",
       "    .dataframe thead th {\n",
       "        text-align: right;\n",
       "    }\n",
       "</style>\n",
       "<table border=\"1\" class=\"dataframe\">\n",
       "  <thead>\n",
       "    <tr style=\"text-align: right;\">\n",
       "      <th></th>\n",
       "      <th>MANU_ID</th>\n",
       "      <th>VAX_MANU</th>\n",
       "    </tr>\n",
       "  </thead>\n",
       "  <tbody>\n",
       "    <tr>\n",
       "      <th>0</th>\n",
       "      <td>1</td>\n",
       "      <td>AVENTIS PASTEUR</td>\n",
       "    </tr>\n",
       "    <tr>\n",
       "      <th>1</th>\n",
       "      <td>2</td>\n",
       "      <td>BERNA BIOTECH, LTD.</td>\n",
       "    </tr>\n",
       "    <tr>\n",
       "      <th>2</th>\n",
       "      <td>3</td>\n",
       "      <td>CONNAUGHT LABORATORIES</td>\n",
       "    </tr>\n",
       "    <tr>\n",
       "      <th>3</th>\n",
       "      <td>4</td>\n",
       "      <td>CSL LIMITED</td>\n",
       "    </tr>\n",
       "    <tr>\n",
       "      <th>4</th>\n",
       "      <td>5</td>\n",
       "      <td>DYNAVAX TECHNOLOGIES CORPORATION</td>\n",
       "    </tr>\n",
       "    <tr>\n",
       "      <th>5</th>\n",
       "      <td>6</td>\n",
       "      <td>EMERGENT BIOSOLUTIONS</td>\n",
       "    </tr>\n",
       "    <tr>\n",
       "      <th>6</th>\n",
       "      <td>7</td>\n",
       "      <td>GLAXOSMITHKLINE BIOLOGICALS</td>\n",
       "    </tr>\n",
       "    <tr>\n",
       "      <th>7</th>\n",
       "      <td>8</td>\n",
       "      <td>INTERCELL AG</td>\n",
       "    </tr>\n",
       "    <tr>\n",
       "      <th>8</th>\n",
       "      <td>9</td>\n",
       "      <td>MASS. PUB HLTH BIOL LAB</td>\n",
       "    </tr>\n",
       "    <tr>\n",
       "      <th>9</th>\n",
       "      <td>10</td>\n",
       "      <td>MEDIMMUNE VACCINES, INC.</td>\n",
       "    </tr>\n",
       "    <tr>\n",
       "      <th>10</th>\n",
       "      <td>11</td>\n",
       "      <td>MERCK &amp; CO. INC.</td>\n",
       "    </tr>\n",
       "    <tr>\n",
       "      <th>11</th>\n",
       "      <td>12</td>\n",
       "      <td>MICHIGAN DEPT PUB HLTH</td>\n",
       "    </tr>\n",
       "    <tr>\n",
       "      <th>12</th>\n",
       "      <td>13</td>\n",
       "      <td>NOVARTIS VACCINES AND DIAGNOSTICS</td>\n",
       "    </tr>\n",
       "    <tr>\n",
       "      <th>13</th>\n",
       "      <td>14</td>\n",
       "      <td>PAXVAX</td>\n",
       "    </tr>\n",
       "    <tr>\n",
       "      <th>14</th>\n",
       "      <td>15</td>\n",
       "      <td>PFIZER\\WYETH</td>\n",
       "    </tr>\n",
       "    <tr>\n",
       "      <th>15</th>\n",
       "      <td>16</td>\n",
       "      <td>PROTEIN SCIENCES CORPORATION</td>\n",
       "    </tr>\n",
       "    <tr>\n",
       "      <th>16</th>\n",
       "      <td>17</td>\n",
       "      <td>SANOFI PASTEUR</td>\n",
       "    </tr>\n",
       "    <tr>\n",
       "      <th>17</th>\n",
       "      <td>18</td>\n",
       "      <td>SEQIRUS, INC.</td>\n",
       "    </tr>\n",
       "    <tr>\n",
       "      <th>18</th>\n",
       "      <td>19</td>\n",
       "      <td>SMITHKLINE BEECHAM</td>\n",
       "    </tr>\n",
       "    <tr>\n",
       "      <th>19</th>\n",
       "      <td>20</td>\n",
       "      <td>TEVA PHARMACEUTICALS</td>\n",
       "    </tr>\n",
       "    <tr>\n",
       "      <th>20</th>\n",
       "      <td>21</td>\n",
       "      <td>UNKNOWN MANUFACTURER</td>\n",
       "    </tr>\n",
       "  </tbody>\n",
       "</table>\n",
       "</div>"
      ],
      "text/plain": [
       "    MANU_ID                           VAX_MANU\n",
       "0         1                    AVENTIS PASTEUR\n",
       "1         2                BERNA BIOTECH, LTD.\n",
       "2         3             CONNAUGHT LABORATORIES\n",
       "3         4                        CSL LIMITED\n",
       "4         5   DYNAVAX TECHNOLOGIES CORPORATION\n",
       "5         6              EMERGENT BIOSOLUTIONS\n",
       "6         7        GLAXOSMITHKLINE BIOLOGICALS\n",
       "7         8                       INTERCELL AG\n",
       "8         9            MASS. PUB HLTH BIOL LAB\n",
       "9        10           MEDIMMUNE VACCINES, INC.\n",
       "10       11                   MERCK & CO. INC.\n",
       "11       12             MICHIGAN DEPT PUB HLTH\n",
       "12       13  NOVARTIS VACCINES AND DIAGNOSTICS\n",
       "13       14                             PAXVAX\n",
       "14       15                       PFIZER\\WYETH\n",
       "15       16       PROTEIN SCIENCES CORPORATION\n",
       "16       17                     SANOFI PASTEUR\n",
       "17       18                      SEQIRUS, INC.\n",
       "18       19                 SMITHKLINE BEECHAM\n",
       "19       20               TEVA PHARMACEUTICALS\n",
       "20       21               UNKNOWN MANUFACTURER"
      ]
     },
     "execution_count": 17,
     "metadata": {},
     "output_type": "execute_result"
    }
   ],
   "source": [
    "%%bigquery\n",
    "select * from vaers_modeled.Manufacturer\n",
    "order by VAX_MANU"
   ]
  },
  {
   "cell_type": "markdown",
   "metadata": {},
   "source": [
    "### Join attributes from staging Events, staging Vaccines, modeled Vaccine and modeled Manufacturer to form new entity: Vaccination"
   ]
  },
  {
   "cell_type": "markdown",
   "metadata": {},
   "source": [
    "#### The Vaccination table will also serve as the junction table for the modeled Vaccine and Manufacturer tables"
   ]
  },
  {
   "cell_type": "code",
   "execution_count": 51,
   "metadata": {},
   "outputs": [
    {
     "data": {
      "text/html": [
       "<div>\n",
       "<style scoped>\n",
       "    .dataframe tbody tr th:only-of-type {\n",
       "        vertical-align: middle;\n",
       "    }\n",
       "\n",
       "    .dataframe tbody tr th {\n",
       "        vertical-align: top;\n",
       "    }\n",
       "\n",
       "    .dataframe thead th {\n",
       "        text-align: right;\n",
       "    }\n",
       "</style>\n",
       "<table border=\"1\" class=\"dataframe\">\n",
       "  <thead>\n",
       "    <tr style=\"text-align: right;\">\n",
       "      <th></th>\n",
       "    </tr>\n",
       "  </thead>\n",
       "  <tbody>\n",
       "  </tbody>\n",
       "</table>\n",
       "</div>"
      ],
      "text/plain": [
       "Empty DataFrame\n",
       "Columns: []\n",
       "Index: []"
      ]
     },
     "execution_count": 51,
     "metadata": {},
     "output_type": "execute_result"
    }
   ],
   "source": [
    "%%bigquery\n",
    "create table vaers_modeled.Vaccination as\n",
    "select ROW_NUMBER() OVER(ORDER BY e.VAERS_ID) as VACCINATION_ID, e.VAERS_ID, e.VAX_DATE, mv.VAX_ID, m.MANU_ID, e.V_ADMINBY, e.V_FUNDBY, v.VAX_ROUTE, v.VAX_SITE\n",
    "from (vaers_staging.Events e inner join vaers_staging.Vaccines v on e.VAERS_ID = v.VAERS_ID)\n",
    "    left join vaers_modeled.Vaccine mv on mv.VAX_NAME = v.VAX_NAME\n",
    "    left join vaers_modeled.Manufacturer m on m.VAX_MANU = v.VAX_MANU\n",
    "group by e.VAERS_ID, e.VAX_DATE, mv.VAX_ID, m.MANU_ID, e.V_ADMINBY, e.V_FUNDBY, v.VAX_ROUTE, v.VAX_SITE"
   ]
  },
  {
   "cell_type": "code",
   "execution_count": 54,
   "metadata": {},
   "outputs": [
    {
     "data": {
      "text/html": [
       "<div>\n",
       "<style scoped>\n",
       "    .dataframe tbody tr th:only-of-type {\n",
       "        vertical-align: middle;\n",
       "    }\n",
       "\n",
       "    .dataframe tbody tr th {\n",
       "        vertical-align: top;\n",
       "    }\n",
       "\n",
       "    .dataframe thead th {\n",
       "        text-align: right;\n",
       "    }\n",
       "</style>\n",
       "<table border=\"1\" class=\"dataframe\">\n",
       "  <thead>\n",
       "    <tr style=\"text-align: right;\">\n",
       "      <th></th>\n",
       "      <th>VACCINATION_ID</th>\n",
       "      <th>VAERS_ID</th>\n",
       "      <th>VAX_DATE</th>\n",
       "      <th>VAX_ID</th>\n",
       "      <th>MANU_ID</th>\n",
       "      <th>V_ADMINBY</th>\n",
       "      <th>V_FUNDBY</th>\n",
       "      <th>VAX_ROUTE</th>\n",
       "      <th>VAX_SITE</th>\n",
       "    </tr>\n",
       "  </thead>\n",
       "  <tbody>\n",
       "    <tr>\n",
       "      <th>0</th>\n",
       "      <td>425</td>\n",
       "      <td>794649</td>\n",
       "      <td>2018-12-27</td>\n",
       "      <td>33</td>\n",
       "      <td>21</td>\n",
       "      <td>UNK</td>\n",
       "      <td>None</td>\n",
       "      <td>UN</td>\n",
       "      <td>UN</td>\n",
       "    </tr>\n",
       "    <tr>\n",
       "      <th>1</th>\n",
       "      <td>1086</td>\n",
       "      <td>795341</td>\n",
       "      <td>2019-01-03</td>\n",
       "      <td>44</td>\n",
       "      <td>21</td>\n",
       "      <td>PVT</td>\n",
       "      <td>None</td>\n",
       "      <td>IM</td>\n",
       "      <td>RA</td>\n",
       "    </tr>\n",
       "    <tr>\n",
       "      <th>2</th>\n",
       "      <td>1131</td>\n",
       "      <td>795400</td>\n",
       "      <td>None</td>\n",
       "      <td>81</td>\n",
       "      <td>21</td>\n",
       "      <td>UNK</td>\n",
       "      <td>None</td>\n",
       "      <td>UN</td>\n",
       "      <td>UN</td>\n",
       "    </tr>\n",
       "    <tr>\n",
       "      <th>3</th>\n",
       "      <td>1283</td>\n",
       "      <td>795541</td>\n",
       "      <td>2019-01-03</td>\n",
       "      <td>94</td>\n",
       "      <td>21</td>\n",
       "      <td>UNK</td>\n",
       "      <td>None</td>\n",
       "      <td>None</td>\n",
       "      <td>None</td>\n",
       "    </tr>\n",
       "    <tr>\n",
       "      <th>4</th>\n",
       "      <td>1401</td>\n",
       "      <td>795669</td>\n",
       "      <td>2019-01-11</td>\n",
       "      <td>122</td>\n",
       "      <td>17</td>\n",
       "      <td>MIL</td>\n",
       "      <td>None</td>\n",
       "      <td>SC</td>\n",
       "      <td>LA</td>\n",
       "    </tr>\n",
       "    <tr>\n",
       "      <th>...</th>\n",
       "      <td>...</td>\n",
       "      <td>...</td>\n",
       "      <td>...</td>\n",
       "      <td>...</td>\n",
       "      <td>...</td>\n",
       "      <td>...</td>\n",
       "      <td>...</td>\n",
       "      <td>...</td>\n",
       "      <td>...</td>\n",
       "    </tr>\n",
       "    <tr>\n",
       "      <th>55937</th>\n",
       "      <td>40558</td>\n",
       "      <td>834723</td>\n",
       "      <td>2017-04-01</td>\n",
       "      <td>125</td>\n",
       "      <td>11</td>\n",
       "      <td>PHM</td>\n",
       "      <td>None</td>\n",
       "      <td>None</td>\n",
       "      <td>None</td>\n",
       "    </tr>\n",
       "    <tr>\n",
       "      <th>55938</th>\n",
       "      <td>48791</td>\n",
       "      <td>842609</td>\n",
       "      <td>None</td>\n",
       "      <td>125</td>\n",
       "      <td>11</td>\n",
       "      <td>MIL</td>\n",
       "      <td>None</td>\n",
       "      <td>OT</td>\n",
       "      <td>None</td>\n",
       "    </tr>\n",
       "    <tr>\n",
       "      <th>55939</th>\n",
       "      <td>55479</td>\n",
       "      <td>851363</td>\n",
       "      <td>2017-11-03</td>\n",
       "      <td>125</td>\n",
       "      <td>11</td>\n",
       "      <td>UNK</td>\n",
       "      <td>None</td>\n",
       "      <td>OT</td>\n",
       "      <td>None</td>\n",
       "    </tr>\n",
       "    <tr>\n",
       "      <th>55940</th>\n",
       "      <td>55702</td>\n",
       "      <td>852054</td>\n",
       "      <td>2017-06-23</td>\n",
       "      <td>125</td>\n",
       "      <td>11</td>\n",
       "      <td>UNK</td>\n",
       "      <td>None</td>\n",
       "      <td>OT</td>\n",
       "      <td>None</td>\n",
       "    </tr>\n",
       "    <tr>\n",
       "      <th>55941</th>\n",
       "      <td>55706</td>\n",
       "      <td>852059</td>\n",
       "      <td>2017-09-26</td>\n",
       "      <td>125</td>\n",
       "      <td>11</td>\n",
       "      <td>UNK</td>\n",
       "      <td>None</td>\n",
       "      <td>None</td>\n",
       "      <td>None</td>\n",
       "    </tr>\n",
       "  </tbody>\n",
       "</table>\n",
       "<p>55942 rows × 9 columns</p>\n",
       "</div>"
      ],
      "text/plain": [
       "       VACCINATION_ID  VAERS_ID    VAX_DATE  VAX_ID  MANU_ID V_ADMINBY  \\\n",
       "0                 425    794649  2018-12-27      33       21       UNK   \n",
       "1                1086    795341  2019-01-03      44       21       PVT   \n",
       "2                1131    795400        None      81       21       UNK   \n",
       "3                1283    795541  2019-01-03      94       21       UNK   \n",
       "4                1401    795669  2019-01-11     122       17       MIL   \n",
       "...               ...       ...         ...     ...      ...       ...   \n",
       "55937           40558    834723  2017-04-01     125       11       PHM   \n",
       "55938           48791    842609        None     125       11       MIL   \n",
       "55939           55479    851363  2017-11-03     125       11       UNK   \n",
       "55940           55702    852054  2017-06-23     125       11       UNK   \n",
       "55941           55706    852059  2017-09-26     125       11       UNK   \n",
       "\n",
       "      V_FUNDBY VAX_ROUTE VAX_SITE  \n",
       "0         None        UN       UN  \n",
       "1         None        IM       RA  \n",
       "2         None        UN       UN  \n",
       "3         None      None     None  \n",
       "4         None        SC       LA  \n",
       "...        ...       ...      ...  \n",
       "55937     None      None     None  \n",
       "55938     None        OT     None  \n",
       "55939     None        OT     None  \n",
       "55940     None        OT     None  \n",
       "55941     None      None     None  \n",
       "\n",
       "[55942 rows x 9 columns]"
      ]
     },
     "execution_count": 54,
     "metadata": {},
     "output_type": "execute_result"
    }
   ],
   "source": [
    "%%bigquery\n",
    "select * from vaers_modeled.Vaccination "
   ]
  },
  {
   "cell_type": "markdown",
   "metadata": {},
   "source": [
    "### Identify Primary Key (PK) for each modeled table"
   ]
  },
  {
   "cell_type": "markdown",
   "metadata": {},
   "source": [
    "#### Patient table : PK is PATIENT_ID"
   ]
  },
  {
   "cell_type": "code",
   "execution_count": 7,
   "metadata": {},
   "outputs": [
    {
     "data": {
      "text/html": [
       "<div>\n",
       "<style scoped>\n",
       "    .dataframe tbody tr th:only-of-type {\n",
       "        vertical-align: middle;\n",
       "    }\n",
       "\n",
       "    .dataframe tbody tr th {\n",
       "        vertical-align: top;\n",
       "    }\n",
       "\n",
       "    .dataframe thead th {\n",
       "        text-align: right;\n",
       "    }\n",
       "</style>\n",
       "<table border=\"1\" class=\"dataframe\">\n",
       "  <thead>\n",
       "    <tr style=\"text-align: right;\">\n",
       "      <th></th>\n",
       "      <th>total_records</th>\n",
       "    </tr>\n",
       "  </thead>\n",
       "  <tbody>\n",
       "    <tr>\n",
       "      <th>0</th>\n",
       "      <td>44344</td>\n",
       "    </tr>\n",
       "  </tbody>\n",
       "</table>\n",
       "</div>"
      ],
      "text/plain": [
       "   total_records\n",
       "0          44344"
      ]
     },
     "execution_count": 7,
     "metadata": {},
     "output_type": "execute_result"
    }
   ],
   "source": [
    "%%bigquery\n",
    "select count(*) as total_records from vaers_modeled.Patient"
   ]
  },
  {
   "cell_type": "code",
   "execution_count": 8,
   "metadata": {},
   "outputs": [
    {
     "data": {
      "text/html": [
       "<div>\n",
       "<style scoped>\n",
       "    .dataframe tbody tr th:only-of-type {\n",
       "        vertical-align: middle;\n",
       "    }\n",
       "\n",
       "    .dataframe tbody tr th {\n",
       "        vertical-align: top;\n",
       "    }\n",
       "\n",
       "    .dataframe thead th {\n",
       "        text-align: right;\n",
       "    }\n",
       "</style>\n",
       "<table border=\"1\" class=\"dataframe\">\n",
       "  <thead>\n",
       "    <tr style=\"text-align: right;\">\n",
       "      <th></th>\n",
       "      <th>distinct_id</th>\n",
       "    </tr>\n",
       "  </thead>\n",
       "  <tbody>\n",
       "    <tr>\n",
       "      <th>0</th>\n",
       "      <td>44344</td>\n",
       "    </tr>\n",
       "  </tbody>\n",
       "</table>\n",
       "</div>"
      ],
      "text/plain": [
       "   distinct_id\n",
       "0        44344"
      ]
     },
     "execution_count": 8,
     "metadata": {},
     "output_type": "execute_result"
    }
   ],
   "source": [
    "%%bigquery\n",
    "select count(distinct PATIENT_ID) as distinct_id from vaers_modeled.Patient"
   ]
  },
  {
   "cell_type": "markdown",
   "metadata": {},
   "source": [
    "#### Adverse_Event table: PK is VAERS_ID"
   ]
  },
  {
   "cell_type": "code",
   "execution_count": 70,
   "metadata": {},
   "outputs": [
    {
     "data": {
      "text/html": [
       "<div>\n",
       "<style scoped>\n",
       "    .dataframe tbody tr th:only-of-type {\n",
       "        vertical-align: middle;\n",
       "    }\n",
       "\n",
       "    .dataframe tbody tr th {\n",
       "        vertical-align: top;\n",
       "    }\n",
       "\n",
       "    .dataframe thead th {\n",
       "        text-align: right;\n",
       "    }\n",
       "</style>\n",
       "<table border=\"1\" class=\"dataframe\">\n",
       "  <thead>\n",
       "    <tr style=\"text-align: right;\">\n",
       "      <th></th>\n",
       "      <th>total_records</th>\n",
       "    </tr>\n",
       "  </thead>\n",
       "  <tbody>\n",
       "    <tr>\n",
       "      <th>0</th>\n",
       "      <td>44344</td>\n",
       "    </tr>\n",
       "  </tbody>\n",
       "</table>\n",
       "</div>"
      ],
      "text/plain": [
       "   total_records\n",
       "0          44344"
      ]
     },
     "execution_count": 70,
     "metadata": {},
     "output_type": "execute_result"
    }
   ],
   "source": [
    "%%bigquery\n",
    "select count(*) as total_records from vaers_modeled.Adverse_Event"
   ]
  },
  {
   "cell_type": "code",
   "execution_count": 72,
   "metadata": {},
   "outputs": [
    {
     "data": {
      "text/html": [
       "<div>\n",
       "<style scoped>\n",
       "    .dataframe tbody tr th:only-of-type {\n",
       "        vertical-align: middle;\n",
       "    }\n",
       "\n",
       "    .dataframe tbody tr th {\n",
       "        vertical-align: top;\n",
       "    }\n",
       "\n",
       "    .dataframe thead th {\n",
       "        text-align: right;\n",
       "    }\n",
       "</style>\n",
       "<table border=\"1\" class=\"dataframe\">\n",
       "  <thead>\n",
       "    <tr style=\"text-align: right;\">\n",
       "      <th></th>\n",
       "      <th>distinct_id</th>\n",
       "    </tr>\n",
       "  </thead>\n",
       "  <tbody>\n",
       "    <tr>\n",
       "      <th>0</th>\n",
       "      <td>44344</td>\n",
       "    </tr>\n",
       "  </tbody>\n",
       "</table>\n",
       "</div>"
      ],
      "text/plain": [
       "   distinct_id\n",
       "0        44344"
      ]
     },
     "execution_count": 72,
     "metadata": {},
     "output_type": "execute_result"
    }
   ],
   "source": [
    "%%bigquery\n",
    "select count(distinct VAERS_ID) as distinct_id from vaers_modeled.Adverse_Event"
   ]
  },
  {
   "cell_type": "markdown",
   "metadata": {},
   "source": [
    "#### Symptom table: PK is SYMPTOM_ID"
   ]
  },
  {
   "cell_type": "code",
   "execution_count": 73,
   "metadata": {},
   "outputs": [
    {
     "data": {
      "text/html": [
       "<div>\n",
       "<style scoped>\n",
       "    .dataframe tbody tr th:only-of-type {\n",
       "        vertical-align: middle;\n",
       "    }\n",
       "\n",
       "    .dataframe tbody tr th {\n",
       "        vertical-align: top;\n",
       "    }\n",
       "\n",
       "    .dataframe thead th {\n",
       "        text-align: right;\n",
       "    }\n",
       "</style>\n",
       "<table border=\"1\" class=\"dataframe\">\n",
       "  <thead>\n",
       "    <tr style=\"text-align: right;\">\n",
       "      <th></th>\n",
       "      <th>total_records</th>\n",
       "    </tr>\n",
       "  </thead>\n",
       "  <tbody>\n",
       "    <tr>\n",
       "      <th>0</th>\n",
       "      <td>55260</td>\n",
       "    </tr>\n",
       "  </tbody>\n",
       "</table>\n",
       "</div>"
      ],
      "text/plain": [
       "   total_records\n",
       "0          55260"
      ]
     },
     "execution_count": 73,
     "metadata": {},
     "output_type": "execute_result"
    }
   ],
   "source": [
    "%%bigquery\n",
    "select count(*) as total_records from vaers_modeled.Symptom"
   ]
  },
  {
   "cell_type": "code",
   "execution_count": 74,
   "metadata": {},
   "outputs": [
    {
     "data": {
      "text/html": [
       "<div>\n",
       "<style scoped>\n",
       "    .dataframe tbody tr th:only-of-type {\n",
       "        vertical-align: middle;\n",
       "    }\n",
       "\n",
       "    .dataframe tbody tr th {\n",
       "        vertical-align: top;\n",
       "    }\n",
       "\n",
       "    .dataframe thead th {\n",
       "        text-align: right;\n",
       "    }\n",
       "</style>\n",
       "<table border=\"1\" class=\"dataframe\">\n",
       "  <thead>\n",
       "    <tr style=\"text-align: right;\">\n",
       "      <th></th>\n",
       "      <th>distinct_id</th>\n",
       "    </tr>\n",
       "  </thead>\n",
       "  <tbody>\n",
       "    <tr>\n",
       "      <th>0</th>\n",
       "      <td>55260</td>\n",
       "    </tr>\n",
       "  </tbody>\n",
       "</table>\n",
       "</div>"
      ],
      "text/plain": [
       "   distinct_id\n",
       "0        55260"
      ]
     },
     "execution_count": 74,
     "metadata": {},
     "output_type": "execute_result"
    }
   ],
   "source": [
    "%%bigquery\n",
    "select count(distinct SYMPTOM_ID) as distinct_id from vaers_modeled.Symptom"
   ]
  },
  {
   "cell_type": "markdown",
   "metadata": {},
   "source": [
    "#### Vaccine table: PK is VAX_ID"
   ]
  },
  {
   "cell_type": "code",
   "execution_count": 75,
   "metadata": {},
   "outputs": [
    {
     "data": {
      "text/html": [
       "<div>\n",
       "<style scoped>\n",
       "    .dataframe tbody tr th:only-of-type {\n",
       "        vertical-align: middle;\n",
       "    }\n",
       "\n",
       "    .dataframe tbody tr th {\n",
       "        vertical-align: top;\n",
       "    }\n",
       "\n",
       "    .dataframe thead th {\n",
       "        text-align: right;\n",
       "    }\n",
       "</style>\n",
       "<table border=\"1\" class=\"dataframe\">\n",
       "  <thead>\n",
       "    <tr style=\"text-align: right;\">\n",
       "      <th></th>\n",
       "      <th>total_records</th>\n",
       "    </tr>\n",
       "  </thead>\n",
       "  <tbody>\n",
       "    <tr>\n",
       "      <th>0</th>\n",
       "      <td>125</td>\n",
       "    </tr>\n",
       "  </tbody>\n",
       "</table>\n",
       "</div>"
      ],
      "text/plain": [
       "   total_records\n",
       "0            125"
      ]
     },
     "execution_count": 75,
     "metadata": {},
     "output_type": "execute_result"
    }
   ],
   "source": [
    "%%bigquery\n",
    "select count(*) as total_records from vaers_modeled.Vaccine"
   ]
  },
  {
   "cell_type": "code",
   "execution_count": 76,
   "metadata": {},
   "outputs": [
    {
     "data": {
      "text/html": [
       "<div>\n",
       "<style scoped>\n",
       "    .dataframe tbody tr th:only-of-type {\n",
       "        vertical-align: middle;\n",
       "    }\n",
       "\n",
       "    .dataframe tbody tr th {\n",
       "        vertical-align: top;\n",
       "    }\n",
       "\n",
       "    .dataframe thead th {\n",
       "        text-align: right;\n",
       "    }\n",
       "</style>\n",
       "<table border=\"1\" class=\"dataframe\">\n",
       "  <thead>\n",
       "    <tr style=\"text-align: right;\">\n",
       "      <th></th>\n",
       "      <th>distinct_id</th>\n",
       "    </tr>\n",
       "  </thead>\n",
       "  <tbody>\n",
       "    <tr>\n",
       "      <th>0</th>\n",
       "      <td>125</td>\n",
       "    </tr>\n",
       "  </tbody>\n",
       "</table>\n",
       "</div>"
      ],
      "text/plain": [
       "   distinct_id\n",
       "0          125"
      ]
     },
     "execution_count": 76,
     "metadata": {},
     "output_type": "execute_result"
    }
   ],
   "source": [
    "%%bigquery\n",
    "select count(distinct VAX_ID) as distinct_id from vaers_modeled.Vaccine"
   ]
  },
  {
   "cell_type": "markdown",
   "metadata": {},
   "source": [
    "#### Manufacturer table: PK is MANU_ID"
   ]
  },
  {
   "cell_type": "code",
   "execution_count": 77,
   "metadata": {},
   "outputs": [
    {
     "data": {
      "text/html": [
       "<div>\n",
       "<style scoped>\n",
       "    .dataframe tbody tr th:only-of-type {\n",
       "        vertical-align: middle;\n",
       "    }\n",
       "\n",
       "    .dataframe tbody tr th {\n",
       "        vertical-align: top;\n",
       "    }\n",
       "\n",
       "    .dataframe thead th {\n",
       "        text-align: right;\n",
       "    }\n",
       "</style>\n",
       "<table border=\"1\" class=\"dataframe\">\n",
       "  <thead>\n",
       "    <tr style=\"text-align: right;\">\n",
       "      <th></th>\n",
       "      <th>total_records</th>\n",
       "    </tr>\n",
       "  </thead>\n",
       "  <tbody>\n",
       "    <tr>\n",
       "      <th>0</th>\n",
       "      <td>21</td>\n",
       "    </tr>\n",
       "  </tbody>\n",
       "</table>\n",
       "</div>"
      ],
      "text/plain": [
       "   total_records\n",
       "0             21"
      ]
     },
     "execution_count": 77,
     "metadata": {},
     "output_type": "execute_result"
    }
   ],
   "source": [
    "%%bigquery\n",
    "select count(*) as total_records from vaers_modeled.Manufacturer"
   ]
  },
  {
   "cell_type": "code",
   "execution_count": 78,
   "metadata": {},
   "outputs": [
    {
     "data": {
      "text/html": [
       "<div>\n",
       "<style scoped>\n",
       "    .dataframe tbody tr th:only-of-type {\n",
       "        vertical-align: middle;\n",
       "    }\n",
       "\n",
       "    .dataframe tbody tr th {\n",
       "        vertical-align: top;\n",
       "    }\n",
       "\n",
       "    .dataframe thead th {\n",
       "        text-align: right;\n",
       "    }\n",
       "</style>\n",
       "<table border=\"1\" class=\"dataframe\">\n",
       "  <thead>\n",
       "    <tr style=\"text-align: right;\">\n",
       "      <th></th>\n",
       "      <th>distinct_id</th>\n",
       "    </tr>\n",
       "  </thead>\n",
       "  <tbody>\n",
       "    <tr>\n",
       "      <th>0</th>\n",
       "      <td>21</td>\n",
       "    </tr>\n",
       "  </tbody>\n",
       "</table>\n",
       "</div>"
      ],
      "text/plain": [
       "   distinct_id\n",
       "0           21"
      ]
     },
     "execution_count": 78,
     "metadata": {},
     "output_type": "execute_result"
    }
   ],
   "source": [
    "%%bigquery\n",
    "select count(distinct MANU_ID) as distinct_id from vaers_modeled.Manufacturer"
   ]
  },
  {
   "cell_type": "markdown",
   "metadata": {},
   "source": [
    "#### Vaccination table: PK is VACCINATION_ID"
   ]
  },
  {
   "cell_type": "code",
   "execution_count": 79,
   "metadata": {},
   "outputs": [
    {
     "data": {
      "text/html": [
       "<div>\n",
       "<style scoped>\n",
       "    .dataframe tbody tr th:only-of-type {\n",
       "        vertical-align: middle;\n",
       "    }\n",
       "\n",
       "    .dataframe tbody tr th {\n",
       "        vertical-align: top;\n",
       "    }\n",
       "\n",
       "    .dataframe thead th {\n",
       "        text-align: right;\n",
       "    }\n",
       "</style>\n",
       "<table border=\"1\" class=\"dataframe\">\n",
       "  <thead>\n",
       "    <tr style=\"text-align: right;\">\n",
       "      <th></th>\n",
       "      <th>total_records</th>\n",
       "    </tr>\n",
       "  </thead>\n",
       "  <tbody>\n",
       "    <tr>\n",
       "      <th>0</th>\n",
       "      <td>55942</td>\n",
       "    </tr>\n",
       "  </tbody>\n",
       "</table>\n",
       "</div>"
      ],
      "text/plain": [
       "   total_records\n",
       "0          55942"
      ]
     },
     "execution_count": 79,
     "metadata": {},
     "output_type": "execute_result"
    }
   ],
   "source": [
    "%%bigquery\n",
    "select count(*) as total_records from vaers_modeled.Vaccination"
   ]
  },
  {
   "cell_type": "code",
   "execution_count": 81,
   "metadata": {},
   "outputs": [
    {
     "data": {
      "text/html": [
       "<div>\n",
       "<style scoped>\n",
       "    .dataframe tbody tr th:only-of-type {\n",
       "        vertical-align: middle;\n",
       "    }\n",
       "\n",
       "    .dataframe tbody tr th {\n",
       "        vertical-align: top;\n",
       "    }\n",
       "\n",
       "    .dataframe thead th {\n",
       "        text-align: right;\n",
       "    }\n",
       "</style>\n",
       "<table border=\"1\" class=\"dataframe\">\n",
       "  <thead>\n",
       "    <tr style=\"text-align: right;\">\n",
       "      <th></th>\n",
       "      <th>distinct_id</th>\n",
       "    </tr>\n",
       "  </thead>\n",
       "  <tbody>\n",
       "    <tr>\n",
       "      <th>0</th>\n",
       "      <td>55942</td>\n",
       "    </tr>\n",
       "  </tbody>\n",
       "</table>\n",
       "</div>"
      ],
      "text/plain": [
       "   distinct_id\n",
       "0        55942"
      ]
     },
     "execution_count": 81,
     "metadata": {},
     "output_type": "execute_result"
    }
   ],
   "source": [
    "%%bigquery\n",
    "select count(distinct VACCINATION_ID) as distinct_id from vaers_modeled.Vaccination"
   ]
  },
  {
   "cell_type": "markdown",
   "metadata": {},
   "source": [
    "### Check for presence of duplicate records in each modeled table"
   ]
  },
  {
   "cell_type": "code",
   "execution_count": 88,
   "metadata": {},
   "outputs": [
    {
     "data": {
      "text/html": [
       "<div>\n",
       "<style scoped>\n",
       "    .dataframe tbody tr th:only-of-type {\n",
       "        vertical-align: middle;\n",
       "    }\n",
       "\n",
       "    .dataframe tbody tr th {\n",
       "        vertical-align: top;\n",
       "    }\n",
       "\n",
       "    .dataframe thead th {\n",
       "        text-align: right;\n",
       "    }\n",
       "</style>\n",
       "<table border=\"1\" class=\"dataframe\">\n",
       "  <thead>\n",
       "    <tr style=\"text-align: right;\">\n",
       "      <th></th>\n",
       "      <th>total_records</th>\n",
       "    </tr>\n",
       "  </thead>\n",
       "  <tbody>\n",
       "    <tr>\n",
       "      <th>0</th>\n",
       "      <td>44344</td>\n",
       "    </tr>\n",
       "  </tbody>\n",
       "</table>\n",
       "</div>"
      ],
      "text/plain": [
       "   total_records\n",
       "0          44344"
      ]
     },
     "execution_count": 88,
     "metadata": {},
     "output_type": "execute_result"
    }
   ],
   "source": [
    "%%bigquery\n",
    "select count(*) as total_records from vaers_modeled.Patient"
   ]
  },
  {
   "cell_type": "code",
   "execution_count": 87,
   "metadata": {},
   "outputs": [
    {
     "data": {
      "text/html": [
       "<div>\n",
       "<style scoped>\n",
       "    .dataframe tbody tr th:only-of-type {\n",
       "        vertical-align: middle;\n",
       "    }\n",
       "\n",
       "    .dataframe tbody tr th {\n",
       "        vertical-align: top;\n",
       "    }\n",
       "\n",
       "    .dataframe thead th {\n",
       "        text-align: right;\n",
       "    }\n",
       "</style>\n",
       "<table border=\"1\" class=\"dataframe\">\n",
       "  <thead>\n",
       "    <tr style=\"text-align: right;\">\n",
       "      <th></th>\n",
       "      <th>distinct_records</th>\n",
       "    </tr>\n",
       "  </thead>\n",
       "  <tbody>\n",
       "    <tr>\n",
       "      <th>0</th>\n",
       "      <td>44344</td>\n",
       "    </tr>\n",
       "  </tbody>\n",
       "</table>\n",
       "</div>"
      ],
      "text/plain": [
       "   distinct_records\n",
       "0             44344"
      ]
     },
     "execution_count": 87,
     "metadata": {},
     "output_type": "execute_result"
    }
   ],
   "source": [
    "%%bigquery\n",
    "SELECT COUNT(*) as distinct_records FROM (SELECT DISTINCT * FROM vaers_modeled.Patient) "
   ]
  },
  {
   "cell_type": "code",
   "execution_count": 89,
   "metadata": {},
   "outputs": [
    {
     "data": {
      "text/html": [
       "<div>\n",
       "<style scoped>\n",
       "    .dataframe tbody tr th:only-of-type {\n",
       "        vertical-align: middle;\n",
       "    }\n",
       "\n",
       "    .dataframe tbody tr th {\n",
       "        vertical-align: top;\n",
       "    }\n",
       "\n",
       "    .dataframe thead th {\n",
       "        text-align: right;\n",
       "    }\n",
       "</style>\n",
       "<table border=\"1\" class=\"dataframe\">\n",
       "  <thead>\n",
       "    <tr style=\"text-align: right;\">\n",
       "      <th></th>\n",
       "      <th>total_records</th>\n",
       "    </tr>\n",
       "  </thead>\n",
       "  <tbody>\n",
       "    <tr>\n",
       "      <th>0</th>\n",
       "      <td>44344</td>\n",
       "    </tr>\n",
       "  </tbody>\n",
       "</table>\n",
       "</div>"
      ],
      "text/plain": [
       "   total_records\n",
       "0          44344"
      ]
     },
     "execution_count": 89,
     "metadata": {},
     "output_type": "execute_result"
    }
   ],
   "source": [
    "%%bigquery\n",
    "select count(*) as total_records from vaers_modeled.Adverse_Event"
   ]
  },
  {
   "cell_type": "code",
   "execution_count": 90,
   "metadata": {},
   "outputs": [
    {
     "data": {
      "text/html": [
       "<div>\n",
       "<style scoped>\n",
       "    .dataframe tbody tr th:only-of-type {\n",
       "        vertical-align: middle;\n",
       "    }\n",
       "\n",
       "    .dataframe tbody tr th {\n",
       "        vertical-align: top;\n",
       "    }\n",
       "\n",
       "    .dataframe thead th {\n",
       "        text-align: right;\n",
       "    }\n",
       "</style>\n",
       "<table border=\"1\" class=\"dataframe\">\n",
       "  <thead>\n",
       "    <tr style=\"text-align: right;\">\n",
       "      <th></th>\n",
       "      <th>distinct_records</th>\n",
       "    </tr>\n",
       "  </thead>\n",
       "  <tbody>\n",
       "    <tr>\n",
       "      <th>0</th>\n",
       "      <td>44344</td>\n",
       "    </tr>\n",
       "  </tbody>\n",
       "</table>\n",
       "</div>"
      ],
      "text/plain": [
       "   distinct_records\n",
       "0             44344"
      ]
     },
     "execution_count": 90,
     "metadata": {},
     "output_type": "execute_result"
    }
   ],
   "source": [
    "%%bigquery\n",
    "SELECT COUNT(*) as distinct_records FROM (SELECT DISTINCT * FROM vaers_modeled.Adverse_Event) "
   ]
  },
  {
   "cell_type": "code",
   "execution_count": 91,
   "metadata": {},
   "outputs": [
    {
     "data": {
      "text/html": [
       "<div>\n",
       "<style scoped>\n",
       "    .dataframe tbody tr th:only-of-type {\n",
       "        vertical-align: middle;\n",
       "    }\n",
       "\n",
       "    .dataframe tbody tr th {\n",
       "        vertical-align: top;\n",
       "    }\n",
       "\n",
       "    .dataframe thead th {\n",
       "        text-align: right;\n",
       "    }\n",
       "</style>\n",
       "<table border=\"1\" class=\"dataframe\">\n",
       "  <thead>\n",
       "    <tr style=\"text-align: right;\">\n",
       "      <th></th>\n",
       "      <th>total_records</th>\n",
       "    </tr>\n",
       "  </thead>\n",
       "  <tbody>\n",
       "    <tr>\n",
       "      <th>0</th>\n",
       "      <td>55260</td>\n",
       "    </tr>\n",
       "  </tbody>\n",
       "</table>\n",
       "</div>"
      ],
      "text/plain": [
       "   total_records\n",
       "0          55260"
      ]
     },
     "execution_count": 91,
     "metadata": {},
     "output_type": "execute_result"
    }
   ],
   "source": [
    "%%bigquery\n",
    "select count(*) as total_records from vaers_modeled.Symptom"
   ]
  },
  {
   "cell_type": "code",
   "execution_count": 93,
   "metadata": {},
   "outputs": [
    {
     "data": {
      "text/html": [
       "<div>\n",
       "<style scoped>\n",
       "    .dataframe tbody tr th:only-of-type {\n",
       "        vertical-align: middle;\n",
       "    }\n",
       "\n",
       "    .dataframe tbody tr th {\n",
       "        vertical-align: top;\n",
       "    }\n",
       "\n",
       "    .dataframe thead th {\n",
       "        text-align: right;\n",
       "    }\n",
       "</style>\n",
       "<table border=\"1\" class=\"dataframe\">\n",
       "  <thead>\n",
       "    <tr style=\"text-align: right;\">\n",
       "      <th></th>\n",
       "      <th>distinct_records</th>\n",
       "    </tr>\n",
       "  </thead>\n",
       "  <tbody>\n",
       "    <tr>\n",
       "      <th>0</th>\n",
       "      <td>55260</td>\n",
       "    </tr>\n",
       "  </tbody>\n",
       "</table>\n",
       "</div>"
      ],
      "text/plain": [
       "   distinct_records\n",
       "0             55260"
      ]
     },
     "execution_count": 93,
     "metadata": {},
     "output_type": "execute_result"
    }
   ],
   "source": [
    "%%bigquery\n",
    "SELECT COUNT(*) as distinct_records FROM (SELECT DISTINCT * FROM vaers_modeled.Symptom) "
   ]
  },
  {
   "cell_type": "code",
   "execution_count": 94,
   "metadata": {},
   "outputs": [
    {
     "data": {
      "text/html": [
       "<div>\n",
       "<style scoped>\n",
       "    .dataframe tbody tr th:only-of-type {\n",
       "        vertical-align: middle;\n",
       "    }\n",
       "\n",
       "    .dataframe tbody tr th {\n",
       "        vertical-align: top;\n",
       "    }\n",
       "\n",
       "    .dataframe thead th {\n",
       "        text-align: right;\n",
       "    }\n",
       "</style>\n",
       "<table border=\"1\" class=\"dataframe\">\n",
       "  <thead>\n",
       "    <tr style=\"text-align: right;\">\n",
       "      <th></th>\n",
       "      <th>total_records</th>\n",
       "    </tr>\n",
       "  </thead>\n",
       "  <tbody>\n",
       "    <tr>\n",
       "      <th>0</th>\n",
       "      <td>125</td>\n",
       "    </tr>\n",
       "  </tbody>\n",
       "</table>\n",
       "</div>"
      ],
      "text/plain": [
       "   total_records\n",
       "0            125"
      ]
     },
     "execution_count": 94,
     "metadata": {},
     "output_type": "execute_result"
    }
   ],
   "source": [
    "%%bigquery\n",
    "select count(*) as total_records from vaers_modeled.Vaccine"
   ]
  },
  {
   "cell_type": "code",
   "execution_count": 95,
   "metadata": {},
   "outputs": [
    {
     "data": {
      "text/html": [
       "<div>\n",
       "<style scoped>\n",
       "    .dataframe tbody tr th:only-of-type {\n",
       "        vertical-align: middle;\n",
       "    }\n",
       "\n",
       "    .dataframe tbody tr th {\n",
       "        vertical-align: top;\n",
       "    }\n",
       "\n",
       "    .dataframe thead th {\n",
       "        text-align: right;\n",
       "    }\n",
       "</style>\n",
       "<table border=\"1\" class=\"dataframe\">\n",
       "  <thead>\n",
       "    <tr style=\"text-align: right;\">\n",
       "      <th></th>\n",
       "      <th>distinct_records</th>\n",
       "    </tr>\n",
       "  </thead>\n",
       "  <tbody>\n",
       "    <tr>\n",
       "      <th>0</th>\n",
       "      <td>125</td>\n",
       "    </tr>\n",
       "  </tbody>\n",
       "</table>\n",
       "</div>"
      ],
      "text/plain": [
       "   distinct_records\n",
       "0               125"
      ]
     },
     "execution_count": 95,
     "metadata": {},
     "output_type": "execute_result"
    }
   ],
   "source": [
    "%%bigquery\n",
    "SELECT COUNT(*) as distinct_records FROM (SELECT DISTINCT * FROM vaers_modeled.Vaccine) "
   ]
  },
  {
   "cell_type": "code",
   "execution_count": 96,
   "metadata": {},
   "outputs": [
    {
     "data": {
      "text/html": [
       "<div>\n",
       "<style scoped>\n",
       "    .dataframe tbody tr th:only-of-type {\n",
       "        vertical-align: middle;\n",
       "    }\n",
       "\n",
       "    .dataframe tbody tr th {\n",
       "        vertical-align: top;\n",
       "    }\n",
       "\n",
       "    .dataframe thead th {\n",
       "        text-align: right;\n",
       "    }\n",
       "</style>\n",
       "<table border=\"1\" class=\"dataframe\">\n",
       "  <thead>\n",
       "    <tr style=\"text-align: right;\">\n",
       "      <th></th>\n",
       "      <th>total_records</th>\n",
       "    </tr>\n",
       "  </thead>\n",
       "  <tbody>\n",
       "    <tr>\n",
       "      <th>0</th>\n",
       "      <td>21</td>\n",
       "    </tr>\n",
       "  </tbody>\n",
       "</table>\n",
       "</div>"
      ],
      "text/plain": [
       "   total_records\n",
       "0             21"
      ]
     },
     "execution_count": 96,
     "metadata": {},
     "output_type": "execute_result"
    }
   ],
   "source": [
    "%%bigquery\n",
    "select count(*) as total_records from vaers_modeled.Manufacturer"
   ]
  },
  {
   "cell_type": "code",
   "execution_count": 97,
   "metadata": {},
   "outputs": [
    {
     "data": {
      "text/html": [
       "<div>\n",
       "<style scoped>\n",
       "    .dataframe tbody tr th:only-of-type {\n",
       "        vertical-align: middle;\n",
       "    }\n",
       "\n",
       "    .dataframe tbody tr th {\n",
       "        vertical-align: top;\n",
       "    }\n",
       "\n",
       "    .dataframe thead th {\n",
       "        text-align: right;\n",
       "    }\n",
       "</style>\n",
       "<table border=\"1\" class=\"dataframe\">\n",
       "  <thead>\n",
       "    <tr style=\"text-align: right;\">\n",
       "      <th></th>\n",
       "      <th>distinct_records</th>\n",
       "    </tr>\n",
       "  </thead>\n",
       "  <tbody>\n",
       "    <tr>\n",
       "      <th>0</th>\n",
       "      <td>21</td>\n",
       "    </tr>\n",
       "  </tbody>\n",
       "</table>\n",
       "</div>"
      ],
      "text/plain": [
       "   distinct_records\n",
       "0                21"
      ]
     },
     "execution_count": 97,
     "metadata": {},
     "output_type": "execute_result"
    }
   ],
   "source": [
    "%%bigquery\n",
    "SELECT COUNT(*) as distinct_records FROM (SELECT DISTINCT * FROM vaers_modeled.Manufacturer) "
   ]
  },
  {
   "cell_type": "code",
   "execution_count": 98,
   "metadata": {},
   "outputs": [
    {
     "data": {
      "text/html": [
       "<div>\n",
       "<style scoped>\n",
       "    .dataframe tbody tr th:only-of-type {\n",
       "        vertical-align: middle;\n",
       "    }\n",
       "\n",
       "    .dataframe tbody tr th {\n",
       "        vertical-align: top;\n",
       "    }\n",
       "\n",
       "    .dataframe thead th {\n",
       "        text-align: right;\n",
       "    }\n",
       "</style>\n",
       "<table border=\"1\" class=\"dataframe\">\n",
       "  <thead>\n",
       "    <tr style=\"text-align: right;\">\n",
       "      <th></th>\n",
       "      <th>total_records</th>\n",
       "    </tr>\n",
       "  </thead>\n",
       "  <tbody>\n",
       "    <tr>\n",
       "      <th>0</th>\n",
       "      <td>55942</td>\n",
       "    </tr>\n",
       "  </tbody>\n",
       "</table>\n",
       "</div>"
      ],
      "text/plain": [
       "   total_records\n",
       "0          55942"
      ]
     },
     "execution_count": 98,
     "metadata": {},
     "output_type": "execute_result"
    }
   ],
   "source": [
    "%%bigquery\n",
    "select count(*) as total_records from vaers_modeled.Vaccination"
   ]
  },
  {
   "cell_type": "code",
   "execution_count": 99,
   "metadata": {},
   "outputs": [
    {
     "data": {
      "text/html": [
       "<div>\n",
       "<style scoped>\n",
       "    .dataframe tbody tr th:only-of-type {\n",
       "        vertical-align: middle;\n",
       "    }\n",
       "\n",
       "    .dataframe tbody tr th {\n",
       "        vertical-align: top;\n",
       "    }\n",
       "\n",
       "    .dataframe thead th {\n",
       "        text-align: right;\n",
       "    }\n",
       "</style>\n",
       "<table border=\"1\" class=\"dataframe\">\n",
       "  <thead>\n",
       "    <tr style=\"text-align: right;\">\n",
       "      <th></th>\n",
       "      <th>distinct_records</th>\n",
       "    </tr>\n",
       "  </thead>\n",
       "  <tbody>\n",
       "    <tr>\n",
       "      <th>0</th>\n",
       "      <td>55942</td>\n",
       "    </tr>\n",
       "  </tbody>\n",
       "</table>\n",
       "</div>"
      ],
      "text/plain": [
       "   distinct_records\n",
       "0             55942"
      ]
     },
     "execution_count": 99,
     "metadata": {},
     "output_type": "execute_result"
    }
   ],
   "source": [
    "%%bigquery\n",
    "SELECT COUNT(*) as distinct_records FROM (SELECT DISTINCT * FROM vaers_modeled.Vaccination) "
   ]
  },
  {
   "cell_type": "markdown",
   "metadata": {},
   "source": [
    "### >> No duplicates found on all modeled tables"
   ]
  },
  {
   "cell_type": "markdown",
   "metadata": {},
   "source": [
    "### Check for referential integrity violations "
   ]
  },
  {
   "cell_type": "code",
   "execution_count": 101,
   "metadata": {},
   "outputs": [
    {
     "data": {
      "text/html": [
       "<div>\n",
       "<style scoped>\n",
       "    .dataframe tbody tr th:only-of-type {\n",
       "        vertical-align: middle;\n",
       "    }\n",
       "\n",
       "    .dataframe tbody tr th {\n",
       "        vertical-align: top;\n",
       "    }\n",
       "\n",
       "    .dataframe thead th {\n",
       "        text-align: right;\n",
       "    }\n",
       "</style>\n",
       "<table border=\"1\" class=\"dataframe\">\n",
       "  <thead>\n",
       "    <tr style=\"text-align: right;\">\n",
       "      <th></th>\n",
       "      <th>count_of_missing_PK</th>\n",
       "    </tr>\n",
       "  </thead>\n",
       "  <tbody>\n",
       "    <tr>\n",
       "      <th>0</th>\n",
       "      <td>0</td>\n",
       "    </tr>\n",
       "  </tbody>\n",
       "</table>\n",
       "</div>"
      ],
      "text/plain": [
       "   count_of_missing_PK\n",
       "0                    0"
      ]
     },
     "execution_count": 101,
     "metadata": {},
     "output_type": "execute_result"
    }
   ],
   "source": [
    "%%bigquery\n",
    "select count(*) as count_of_missing_PK \n",
    "from vaers_modeled.Patient p left join vaers_modeled.Adverse_Event e on e.VAERS_ID = p.VAERS_ID \n",
    "where e.VAERS_ID is null "
   ]
  },
  {
   "cell_type": "code",
   "execution_count": 1,
   "metadata": {},
   "outputs": [
    {
     "data": {
      "text/html": [
       "<div>\n",
       "<style scoped>\n",
       "    .dataframe tbody tr th:only-of-type {\n",
       "        vertical-align: middle;\n",
       "    }\n",
       "\n",
       "    .dataframe tbody tr th {\n",
       "        vertical-align: top;\n",
       "    }\n",
       "\n",
       "    .dataframe thead th {\n",
       "        text-align: right;\n",
       "    }\n",
       "</style>\n",
       "<table border=\"1\" class=\"dataframe\">\n",
       "  <thead>\n",
       "    <tr style=\"text-align: right;\">\n",
       "      <th></th>\n",
       "      <th>count_of_missing_PK</th>\n",
       "    </tr>\n",
       "  </thead>\n",
       "  <tbody>\n",
       "    <tr>\n",
       "      <th>0</th>\n",
       "      <td>0</td>\n",
       "    </tr>\n",
       "  </tbody>\n",
       "</table>\n",
       "</div>"
      ],
      "text/plain": [
       "   count_of_missing_PK\n",
       "0                    0"
      ]
     },
     "execution_count": 1,
     "metadata": {},
     "output_type": "execute_result"
    }
   ],
   "source": [
    "%%bigquery\n",
    "select count(*) as count_of_missing_PK \n",
    "from vaers_modeled.Symptom s left join vaers_modeled.Adverse_Event e on e.VAERS_ID = s.VAERS_ID \n",
    "where e.VAERS_ID is null "
   ]
  },
  {
   "cell_type": "code",
   "execution_count": 2,
   "metadata": {},
   "outputs": [
    {
     "data": {
      "text/html": [
       "<div>\n",
       "<style scoped>\n",
       "    .dataframe tbody tr th:only-of-type {\n",
       "        vertical-align: middle;\n",
       "    }\n",
       "\n",
       "    .dataframe tbody tr th {\n",
       "        vertical-align: top;\n",
       "    }\n",
       "\n",
       "    .dataframe thead th {\n",
       "        text-align: right;\n",
       "    }\n",
       "</style>\n",
       "<table border=\"1\" class=\"dataframe\">\n",
       "  <thead>\n",
       "    <tr style=\"text-align: right;\">\n",
       "      <th></th>\n",
       "      <th>count_of_missing_PK</th>\n",
       "    </tr>\n",
       "  </thead>\n",
       "  <tbody>\n",
       "    <tr>\n",
       "      <th>0</th>\n",
       "      <td>0</td>\n",
       "    </tr>\n",
       "  </tbody>\n",
       "</table>\n",
       "</div>"
      ],
      "text/plain": [
       "   count_of_missing_PK\n",
       "0                    0"
      ]
     },
     "execution_count": 2,
     "metadata": {},
     "output_type": "execute_result"
    }
   ],
   "source": [
    "%%bigquery\n",
    "select count(*) as count_of_missing_PK \n",
    "from vaers_modeled.Vaccination v left join vaers_modeled.Adverse_Event e on e.VAERS_ID = v.VAERS_ID \n",
    "where e.VAERS_ID is null "
   ]
  },
  {
   "cell_type": "code",
   "execution_count": 3,
   "metadata": {},
   "outputs": [
    {
     "data": {
      "text/html": [
       "<div>\n",
       "<style scoped>\n",
       "    .dataframe tbody tr th:only-of-type {\n",
       "        vertical-align: middle;\n",
       "    }\n",
       "\n",
       "    .dataframe tbody tr th {\n",
       "        vertical-align: top;\n",
       "    }\n",
       "\n",
       "    .dataframe thead th {\n",
       "        text-align: right;\n",
       "    }\n",
       "</style>\n",
       "<table border=\"1\" class=\"dataframe\">\n",
       "  <thead>\n",
       "    <tr style=\"text-align: right;\">\n",
       "      <th></th>\n",
       "      <th>count_of_missing_PK</th>\n",
       "    </tr>\n",
       "  </thead>\n",
       "  <tbody>\n",
       "    <tr>\n",
       "      <th>0</th>\n",
       "      <td>0</td>\n",
       "    </tr>\n",
       "  </tbody>\n",
       "</table>\n",
       "</div>"
      ],
      "text/plain": [
       "   count_of_missing_PK\n",
       "0                    0"
      ]
     },
     "execution_count": 3,
     "metadata": {},
     "output_type": "execute_result"
    }
   ],
   "source": [
    "%%bigquery\n",
    "select count(*) as count_of_missing_PK \n",
    "from vaers_modeled.Vaccination vt left join vaers_modeled.Vaccine v on vt.VAX_ID = v.VAX_ID \n",
    "where v.VAX_ID is null "
   ]
  },
  {
   "cell_type": "code",
   "execution_count": 4,
   "metadata": {},
   "outputs": [
    {
     "data": {
      "text/html": [
       "<div>\n",
       "<style scoped>\n",
       "    .dataframe tbody tr th:only-of-type {\n",
       "        vertical-align: middle;\n",
       "    }\n",
       "\n",
       "    .dataframe tbody tr th {\n",
       "        vertical-align: top;\n",
       "    }\n",
       "\n",
       "    .dataframe thead th {\n",
       "        text-align: right;\n",
       "    }\n",
       "</style>\n",
       "<table border=\"1\" class=\"dataframe\">\n",
       "  <thead>\n",
       "    <tr style=\"text-align: right;\">\n",
       "      <th></th>\n",
       "      <th>count_of_missing_PK</th>\n",
       "    </tr>\n",
       "  </thead>\n",
       "  <tbody>\n",
       "    <tr>\n",
       "      <th>0</th>\n",
       "      <td>0</td>\n",
       "    </tr>\n",
       "  </tbody>\n",
       "</table>\n",
       "</div>"
      ],
      "text/plain": [
       "   count_of_missing_PK\n",
       "0                    0"
      ]
     },
     "execution_count": 4,
     "metadata": {},
     "output_type": "execute_result"
    }
   ],
   "source": [
    "%%bigquery\n",
    "select count(*) as count_of_missing_PK \n",
    "from vaers_modeled.Vaccination vt left join vaers_modeled.Manufacturer m on vt.MANU_ID = m.MANU_ID \n",
    "where m.MANU_ID is null "
   ]
  },
  {
   "cell_type": "markdown",
   "metadata": {},
   "source": [
    "### >> No referential integrity violations on all modeled tables"
   ]
  },
  {
   "cell_type": "markdown",
   "metadata": {},
   "source": [
    "## Beam pipeline"
   ]
  },
  {
   "cell_type": "markdown",
   "metadata": {},
   "source": [
    "### Standardize data in Adverse_Event table using Beam pipeline (Direct Runner)"
   ]
  },
  {
   "cell_type": "code",
   "execution_count": 3,
   "metadata": {
    "collapsed": true,
    "jupyter": {
     "outputs_hidden": true
    }
   },
   "outputs": [
    {
     "name": "stderr",
     "output_type": "stream",
     "text": [
      "/home/jupyter/venv/lib/python3.5/site-packages/apache_beam/io/gcp/bigquery.py:1421: BeamDeprecationWarning: options is deprecated since First stable release. References to <pipeline>.options will not be supported\n",
      "  experiments = p.options.view_as(DebugOptions).experiments or []\n",
      "INFO:apache_beam.runners.direct.direct_runner:Running pipeline with DirectRunner.\n",
      "INFO:apache_beam.io.gcp.bigquery_tools:Using location 'US' from table <TableReference\n",
      " datasetId: 'vaers_modeled'\n",
      " projectId: 'studied-brand-266702'\n",
      " tableId: 'Adverse_Event'> referenced by query SELECT * FROM vaers_modeled.Adverse_Event limit 50\n",
      "WARNING:apache_beam.io.gcp.bigquery_tools:Dataset studied-brand-266702:temp_dataset_928ac01d976e4c898894907a0ec8a8d2 does not exist so we will create it as temporary with location=US\n"
     ]
    },
    {
     "name": "stdout",
     "output_type": "stream",
     "text": [
      "Current RECOVD:  N\n",
      "New RECOVD:  False\n",
      "Current RECOVD:  N\n",
      "New RECOVD:  False\n",
      "Current RECOVD:  U\n",
      "New RECOVD:  None\n",
      "Current RECOVD:  U\n",
      "New RECOVD:  None\n",
      "Current RECOVD:  U\n",
      "New RECOVD:  None\n",
      "Current RECOVD:  U\n",
      "New RECOVD:  None\n",
      "Current RECOVD:  U\n",
      "New RECOVD:  None\n",
      "Current RECOVD:  U\n",
      "New RECOVD:  None\n",
      "Current RECOVD:  U\n",
      "New RECOVD:  None\n",
      "Current RECOVD:  U\n",
      "New RECOVD:  None\n",
      "Current RECOVD:  U\n",
      "New RECOVD:  None\n",
      "Current RECOVD:  U\n",
      "New RECOVD:  None\n",
      "Current RECOVD:  U\n",
      "New RECOVD:  None\n",
      "Current RECOVD:  U\n",
      "New RECOVD:  None\n",
      "Current RECOVD:  U\n",
      "New RECOVD:  None\n",
      "Current RECOVD:  U\n",
      "New RECOVD:  None\n",
      "Current RECOVD:  U\n",
      "New RECOVD:  None\n",
      "Current RECOVD:  U\n",
      "New RECOVD:  None\n",
      "Current RECOVD:  U\n",
      "New RECOVD:  None\n",
      "Current RECOVD:  U\n",
      "New RECOVD:  None\n",
      "Current RECOVD:  U\n",
      "New RECOVD:  None\n",
      "Current RECOVD:  U\n",
      "New RECOVD:  None\n",
      "Current RECOVD:  U\n",
      "New RECOVD:  None\n",
      "Current RECOVD:  U\n",
      "New RECOVD:  None\n",
      "Current RECOVD:  U\n",
      "New RECOVD:  None\n",
      "Current RECOVD:  U\n",
      "New RECOVD:  None\n",
      "Current RECOVD:  U\n",
      "New RECOVD:  None\n",
      "Current RECOVD:  U\n",
      "New RECOVD:  None\n",
      "Current RECOVD:  U\n",
      "New RECOVD:  None\n",
      "Current RECOVD:  U\n",
      "New RECOVD:  None\n",
      "Current RECOVD:  U\n",
      "New RECOVD:  None\n",
      "Current RECOVD:  U\n",
      "New RECOVD:  None\n",
      "Current RECOVD:  Y\n",
      "New RECOVD:  True\n",
      "Current RECOVD:  Y\n",
      "New RECOVD:  True\n",
      "Current RECOVD:  Y\n",
      "New RECOVD:  True\n",
      "Current RECOVD:  Y\n",
      "New RECOVD:  True\n",
      "Current RECOVD:  Y\n",
      "New RECOVD:  True\n",
      "Current RECOVD:  Y\n",
      "New RECOVD:  True\n",
      "Current RECOVD:  N\n",
      "New RECOVD:  False\n",
      "Current RECOVD:  N\n",
      "New RECOVD:  False\n",
      "Current RECOVD:  U\n",
      "New RECOVD:  None\n",
      "Current RECOVD:  U\n",
      "New RECOVD:  None\n",
      "Current RECOVD:  U\n",
      "New RECOVD:  None\n",
      "Current RECOVD:  U\n",
      "New RECOVD:  None\n",
      "Current RECOVD:  U\n",
      "New RECOVD:  None\n",
      "Current RECOVD:  U\n",
      "New RECOVD:  None\n",
      "Current RECOVD:  U\n",
      "New RECOVD:  None\n",
      "Current RECOVD:  U\n",
      "New RECOVD:  None\n",
      "Current RECOVD:  U\n",
      "New RECOVD:  None\n",
      "Current RECOVD:  Y\n",
      "New RECOVD:  True\n",
      "Current BIRTH_DEFECT:  None\n",
      "New BIRTH_DEFECT:  False\n",
      "Current BIRTH_DEFECT:  None\n",
      "New BIRTH_DEFECT:  False\n",
      "Current BIRTH_DEFECT:  None\n",
      "New BIRTH_DEFECT:  False\n",
      "Current BIRTH_DEFECT:  None\n",
      "New BIRTH_DEFECT:  False\n",
      "Current BIRTH_DEFECT:  None\n",
      "New BIRTH_DEFECT:  False\n",
      "Current BIRTH_DEFECT:  None\n",
      "New BIRTH_DEFECT:  False\n",
      "Current BIRTH_DEFECT:  None\n",
      "New BIRTH_DEFECT:  False\n",
      "Current BIRTH_DEFECT:  None\n",
      "New BIRTH_DEFECT:  False\n",
      "Current BIRTH_DEFECT:  None\n",
      "New BIRTH_DEFECT:  False\n",
      "Current BIRTH_DEFECT:  None\n",
      "New BIRTH_DEFECT:  False\n",
      "Current BIRTH_DEFECT:  None\n",
      "New BIRTH_DEFECT:  False\n",
      "Current BIRTH_DEFECT:  None\n",
      "New BIRTH_DEFECT:  False\n",
      "Current BIRTH_DEFECT:  None\n",
      "New BIRTH_DEFECT:  False\n",
      "Current BIRTH_DEFECT:  None\n",
      "New BIRTH_DEFECT:  False\n",
      "Current BIRTH_DEFECT:  None\n",
      "New BIRTH_DEFECT:  False\n",
      "Current BIRTH_DEFECT:  None\n",
      "New BIRTH_DEFECT:  False\n",
      "Current BIRTH_DEFECT:  None\n",
      "New BIRTH_DEFECT:  False\n",
      "Current BIRTH_DEFECT:  None\n",
      "New BIRTH_DEFECT:  False\n",
      "Current BIRTH_DEFECT:  None\n",
      "New BIRTH_DEFECT:  False\n",
      "Current BIRTH_DEFECT:  None\n",
      "New BIRTH_DEFECT:  False\n",
      "Current BIRTH_DEFECT:  None\n",
      "New BIRTH_DEFECT:  False\n",
      "Current BIRTH_DEFECT:  None\n",
      "New BIRTH_DEFECT:  False\n",
      "Current BIRTH_DEFECT:  None\n",
      "New BIRTH_DEFECT:  False\n",
      "Current BIRTH_DEFECT:  None\n",
      "New BIRTH_DEFECT:  False\n",
      "Current BIRTH_DEFECT:  None\n",
      "New BIRTH_DEFECT:  False\n",
      "Current BIRTH_DEFECT:  None\n",
      "New BIRTH_DEFECT:  False\n",
      "Current BIRTH_DEFECT:  None\n",
      "New BIRTH_DEFECT:  False\n",
      "Current BIRTH_DEFECT:  None\n",
      "New BIRTH_DEFECT:  False\n",
      "Current BIRTH_DEFECT:  None\n",
      "New BIRTH_DEFECT:  False\n",
      "Current BIRTH_DEFECT:  None\n",
      "New BIRTH_DEFECT:  False\n",
      "Current BIRTH_DEFECT:  None\n",
      "New BIRTH_DEFECT:  False\n",
      "Current BIRTH_DEFECT:  None\n",
      "New BIRTH_DEFECT:  False\n",
      "Current BIRTH_DEFECT:  None\n",
      "New BIRTH_DEFECT:  False\n",
      "Current BIRTH_DEFECT:  None\n",
      "New BIRTH_DEFECT:  False\n",
      "Current BIRTH_DEFECT:  None\n",
      "New BIRTH_DEFECT:  False\n",
      "Current BIRTH_DEFECT:  None\n",
      "New BIRTH_DEFECT:  False\n",
      "Current BIRTH_DEFECT:  None\n",
      "New BIRTH_DEFECT:  False\n",
      "Current BIRTH_DEFECT:  None\n",
      "New BIRTH_DEFECT:  False\n",
      "Current BIRTH_DEFECT:  None\n",
      "New BIRTH_DEFECT:  False\n",
      "Current BIRTH_DEFECT:  None\n",
      "New BIRTH_DEFECT:  False\n",
      "Current BIRTH_DEFECT:  None\n",
      "New BIRTH_DEFECT:  False\n",
      "Current BIRTH_DEFECT:  None\n",
      "New BIRTH_DEFECT:  False\n",
      "Current BIRTH_DEFECT:  None\n",
      "New BIRTH_DEFECT:  False\n",
      "Current BIRTH_DEFECT:  None\n",
      "New BIRTH_DEFECT:  False\n",
      "Current BIRTH_DEFECT:  None\n",
      "New BIRTH_DEFECT:  False\n",
      "Current BIRTH_DEFECT:  None\n",
      "New BIRTH_DEFECT:  False\n",
      "Current BIRTH_DEFECT:  None\n",
      "New BIRTH_DEFECT:  False\n",
      "Current BIRTH_DEFECT:  None\n",
      "New BIRTH_DEFECT:  False\n",
      "Current BIRTH_DEFECT:  None\n",
      "New BIRTH_DEFECT:  False\n",
      "Current BIRTH_DEFECT:  None\n",
      "New BIRTH_DEFECT:  False\n",
      "Current DIED:  None\n",
      "New DIED:  False\n",
      "Current DIED:  None\n",
      "New DIED:  False\n",
      "Current DIED:  None\n",
      "New DIED:  False\n",
      "Current DIED:  None\n",
      "New DIED:  False\n",
      "Current DIED:  None\n",
      "New DIED:  False\n",
      "Current DIED:  None\n",
      "New DIED:  False\n",
      "Current DIED:  None\n",
      "New DIED:  False\n",
      "Current DIED:  None\n",
      "New DIED:  False\n",
      "Current DIED:  None\n",
      "New DIED:  False\n",
      "Current DIED:  None\n",
      "New DIED:  False\n",
      "Current DIED:  None\n",
      "New DIED:  False\n",
      "Current DIED:  None\n",
      "New DIED:  False\n",
      "Current DIED:  None\n",
      "New DIED:  False\n",
      "Current DIED:  None\n",
      "New DIED:  False\n",
      "Current DIED:  None\n",
      "New DIED:  False\n",
      "Current DIED:  None\n",
      "New DIED:  False\n",
      "Current DIED:  None\n",
      "New DIED:  False\n",
      "Current DIED:  None\n",
      "New DIED:  False\n",
      "Current DIED:  None\n",
      "New DIED:  False\n",
      "Current DIED:  None\n",
      "New DIED:  False\n",
      "Current DIED:  None\n",
      "New DIED:  False\n",
      "Current DIED:  None\n",
      "New DIED:  False\n",
      "Current DIED:  None\n",
      "New DIED:  False\n",
      "Current DIED:  None\n",
      "New DIED:  False\n",
      "Current DIED:  None\n",
      "New DIED:  False\n",
      "Current DIED:  None\n",
      "New DIED:  False\n",
      "Current DIED:  None\n",
      "New DIED:  False\n",
      "Current DIED:  None\n",
      "New DIED:  False\n",
      "Current DIED:  None\n",
      "New DIED:  False\n",
      "Current DIED:  None\n",
      "New DIED:  False\n",
      "Current DIED:  None\n",
      "New DIED:  False\n",
      "Current DIED:  None\n",
      "New DIED:  False\n",
      "Current DIED:  None\n",
      "New DIED:  False\n",
      "Current DIED:  None\n",
      "New DIED:  False\n",
      "Current DIED:  None\n",
      "New DIED:  False\n",
      "Current DIED:  None\n",
      "New DIED:  False\n",
      "Current DIED:  None\n",
      "New DIED:  False\n",
      "Current DIED:  None\n",
      "New DIED:  False\n",
      "Current DIED:  None\n",
      "New DIED:  False\n",
      "Current DIED:  None\n",
      "New DIED:  False\n",
      "Current DIED:  None\n",
      "New DIED:  False\n",
      "Current DIED:  None\n",
      "New DIED:  False\n",
      "Current DIED:  None\n",
      "New DIED:  False\n",
      "Current DIED:  None\n",
      "New DIED:  False\n",
      "Current DIED:  None\n",
      "New DIED:  False\n",
      "Current DIED:  None\n",
      "New DIED:  False\n",
      "Current DIED:  None\n",
      "New DIED:  False\n",
      "Current DIED:  None\n",
      "New DIED:  False\n",
      "Current DIED:  None\n",
      "New DIED:  False\n",
      "Current DIED:  None\n",
      "New DIED:  False\n"
     ]
    },
    {
     "name": "stderr",
     "output_type": "stream",
     "text": [
      "INFO:apache_beam.io.filebasedsink:Starting finalize_write threads with num_shards: 1 (skipped: 0), batches: 1, num_threads: 1\n",
      "INFO:apache_beam.io.filebasedsink:Renamed 1 shards in 0.10 seconds.\n",
      "INFO:apache_beam.io.filebasedsink:Starting finalize_write threads with num_shards: 1 (skipped: 0), batches: 1, num_threads: 1\n",
      "INFO:apache_beam.io.filebasedsink:Renamed 1 shards in 0.10 seconds.\n",
      "INFO:apache_beam.io.filebasedsink:Starting finalize_write threads with num_shards: 1 (skipped: 0), batches: 1, num_threads: 1\n",
      "INFO:apache_beam.io.filebasedsink:Renamed 1 shards in 0.10 seconds.\n",
      "INFO:apache_beam.io.gcp.bigquery_tools:Created table studied-brand-266702.vaers_modeled.Adverse_Event_Beam with schema <TableSchema\n",
      " fields: [<TableFieldSchema\n",
      " fields: []\n",
      " mode: 'NULLABLE'\n",
      " name: 'VAERS_ID'\n",
      " type: 'INTEGER'>, <TableFieldSchema\n",
      " fields: []\n",
      " mode: 'NULLABLE'\n",
      " name: 'ONSET_DATE'\n",
      " type: 'DATE'>, <TableFieldSchema\n",
      " fields: []\n",
      " mode: 'NULLABLE'\n",
      " name: 'RECOVD'\n",
      " type: 'BOOLEAN'>, <TableFieldSchema\n",
      " fields: []\n",
      " mode: 'NULLABLE'\n",
      " name: 'DIED'\n",
      " type: 'BOOLEAN'>, <TableFieldSchema\n",
      " fields: []\n",
      " mode: 'NULLABLE'\n",
      " name: 'DATEDIED'\n",
      " type: 'DATE'>, <TableFieldSchema\n",
      " fields: []\n",
      " mode: 'NULLABLE'\n",
      " name: 'L_THREAT'\n",
      " type: 'BOOLEAN'>, <TableFieldSchema\n",
      " fields: []\n",
      " mode: 'NULLABLE'\n",
      " name: 'OFC_VISIT'\n",
      " type: 'BOOLEAN'>, <TableFieldSchema\n",
      " fields: []\n",
      " mode: 'NULLABLE'\n",
      " name: 'ER_VISIT'\n",
      " type: 'BOOLEAN'>, <TableFieldSchema\n",
      " fields: []\n",
      " mode: 'NULLABLE'\n",
      " name: 'ER_ED_VISIT'\n",
      " type: 'BOOLEAN'>, <TableFieldSchema\n",
      " fields: []\n",
      " mode: 'NULLABLE'\n",
      " name: 'HOSPITAL'\n",
      " type: 'BOOLEAN'>, <TableFieldSchema\n",
      " fields: []\n",
      " mode: 'NULLABLE'\n",
      " name: 'HOSPDAYS'\n",
      " type: 'INTEGER'>, <TableFieldSchema\n",
      " fields: []\n",
      " mode: 'NULLABLE'\n",
      " name: 'X_STAY'\n",
      " type: 'BOOLEAN'>, <TableFieldSchema\n",
      " fields: []\n",
      " mode: 'NULLABLE'\n",
      " name: 'DISABLE'\n",
      " type: 'BOOLEAN'>, <TableFieldSchema\n",
      " fields: []\n",
      " mode: 'NULLABLE'\n",
      " name: 'BIRTH_DEFECT'\n",
      " type: 'BOOLEAN'>, <TableFieldSchema\n",
      " fields: []\n",
      " mode: 'NULLABLE'\n",
      " name: 'OTHER_MEDS'\n",
      " type: 'STRING'>, <TableFieldSchema\n",
      " fields: []\n",
      " mode: 'NULLABLE'\n",
      " name: 'CUR_ILL'\n",
      " type: 'STRING'>, <TableFieldSchema\n",
      " fields: []\n",
      " mode: 'NULLABLE'\n",
      " name: 'HISTORY'\n",
      " type: 'STRING'>, <TableFieldSchema\n",
      " fields: []\n",
      " mode: 'NULLABLE'\n",
      " name: 'PRIOR_VAX'\n",
      " type: 'STRING'>]>. Result: <Table\n",
      " creationTime: 1583043359720\n",
      " etag: '80bJsH++cX3Te9DCFYPOwg=='\n",
      " id: 'studied-brand-266702:vaers_modeled.Adverse_Event_Beam'\n",
      " kind: 'bigquery#table'\n",
      " lastModifiedTime: 1583043359753\n",
      " location: 'US'\n",
      " numBytes: 0\n",
      " numLongTermBytes: 0\n",
      " numRows: 0\n",
      " schema: <TableSchema\n",
      " fields: [<TableFieldSchema\n",
      " fields: []\n",
      " mode: 'NULLABLE'\n",
      " name: 'VAERS_ID'\n",
      " type: 'INTEGER'>, <TableFieldSchema\n",
      " fields: []\n",
      " mode: 'NULLABLE'\n",
      " name: 'ONSET_DATE'\n",
      " type: 'DATE'>, <TableFieldSchema\n",
      " fields: []\n",
      " mode: 'NULLABLE'\n",
      " name: 'RECOVD'\n",
      " type: 'BOOLEAN'>, <TableFieldSchema\n",
      " fields: []\n",
      " mode: 'NULLABLE'\n",
      " name: 'DIED'\n",
      " type: 'BOOLEAN'>, <TableFieldSchema\n",
      " fields: []\n",
      " mode: 'NULLABLE'\n",
      " name: 'DATEDIED'\n",
      " type: 'DATE'>, <TableFieldSchema\n",
      " fields: []\n",
      " mode: 'NULLABLE'\n",
      " name: 'L_THREAT'\n",
      " type: 'BOOLEAN'>, <TableFieldSchema\n",
      " fields: []\n",
      " mode: 'NULLABLE'\n",
      " name: 'OFC_VISIT'\n",
      " type: 'BOOLEAN'>, <TableFieldSchema\n",
      " fields: []\n",
      " mode: 'NULLABLE'\n",
      " name: 'ER_VISIT'\n",
      " type: 'BOOLEAN'>, <TableFieldSchema\n",
      " fields: []\n",
      " mode: 'NULLABLE'\n",
      " name: 'ER_ED_VISIT'\n",
      " type: 'BOOLEAN'>, <TableFieldSchema\n",
      " fields: []\n",
      " mode: 'NULLABLE'\n",
      " name: 'HOSPITAL'\n",
      " type: 'BOOLEAN'>, <TableFieldSchema\n",
      " fields: []\n",
      " mode: 'NULLABLE'\n",
      " name: 'HOSPDAYS'\n",
      " type: 'INTEGER'>, <TableFieldSchema\n",
      " fields: []\n",
      " mode: 'NULLABLE'\n",
      " name: 'X_STAY'\n",
      " type: 'BOOLEAN'>, <TableFieldSchema\n",
      " fields: []\n",
      " mode: 'NULLABLE'\n",
      " name: 'DISABLE'\n",
      " type: 'BOOLEAN'>, <TableFieldSchema\n",
      " fields: []\n",
      " mode: 'NULLABLE'\n",
      " name: 'BIRTH_DEFECT'\n",
      " type: 'BOOLEAN'>, <TableFieldSchema\n",
      " fields: []\n",
      " mode: 'NULLABLE'\n",
      " name: 'OTHER_MEDS'\n",
      " type: 'STRING'>, <TableFieldSchema\n",
      " fields: []\n",
      " mode: 'NULLABLE'\n",
      " name: 'CUR_ILL'\n",
      " type: 'STRING'>, <TableFieldSchema\n",
      " fields: []\n",
      " mode: 'NULLABLE'\n",
      " name: 'HISTORY'\n",
      " type: 'STRING'>, <TableFieldSchema\n",
      " fields: []\n",
      " mode: 'NULLABLE'\n",
      " name: 'PRIOR_VAX'\n",
      " type: 'STRING'>]>\n",
      " selfLink: 'https://www.googleapis.com/bigquery/v2/projects/studied-brand-266702/datasets/vaers_modeled/tables/Adverse_Event_Beam'\n",
      " tableReference: <TableReference\n",
      " datasetId: 'vaers_modeled'\n",
      " projectId: 'studied-brand-266702'\n",
      " tableId: 'Adverse_Event_Beam'>\n",
      " type: 'TABLE'>.\n",
      "WARNING:apache_beam.io.gcp.bigquery_tools:Sleeping for 150 seconds before the write as BigQuery inserts can be routed to deleted table for 2 mins after the delete and create.\n"
     ]
    }
   ],
   "source": [
    "%run Adverse_Event_beam.py"
   ]
  },
  {
   "cell_type": "markdown",
   "metadata": {},
   "source": [
    "### Verify presence of Primary Key in Beam result table"
   ]
  },
  {
   "cell_type": "markdown",
   "metadata": {},
   "source": [
    "#### Adverse_Event_Beam table: PK is VAERS_ID"
   ]
  },
  {
   "cell_type": "code",
   "execution_count": 4,
   "metadata": {},
   "outputs": [
    {
     "data": {
      "text/html": [
       "<div>\n",
       "<style scoped>\n",
       "    .dataframe tbody tr th:only-of-type {\n",
       "        vertical-align: middle;\n",
       "    }\n",
       "\n",
       "    .dataframe tbody tr th {\n",
       "        vertical-align: top;\n",
       "    }\n",
       "\n",
       "    .dataframe thead th {\n",
       "        text-align: right;\n",
       "    }\n",
       "</style>\n",
       "<table border=\"1\" class=\"dataframe\">\n",
       "  <thead>\n",
       "    <tr style=\"text-align: right;\">\n",
       "      <th></th>\n",
       "      <th>total_records</th>\n",
       "    </tr>\n",
       "  </thead>\n",
       "  <tbody>\n",
       "    <tr>\n",
       "      <th>0</th>\n",
       "      <td>50</td>\n",
       "    </tr>\n",
       "  </tbody>\n",
       "</table>\n",
       "</div>"
      ],
      "text/plain": [
       "   total_records\n",
       "0             50"
      ]
     },
     "execution_count": 4,
     "metadata": {},
     "output_type": "execute_result"
    }
   ],
   "source": [
    "%%bigquery\n",
    "select count(*) as total_records from vaers_modeled.Adverse_Event_Beam"
   ]
  },
  {
   "cell_type": "code",
   "execution_count": 5,
   "metadata": {},
   "outputs": [
    {
     "data": {
      "text/html": [
       "<div>\n",
       "<style scoped>\n",
       "    .dataframe tbody tr th:only-of-type {\n",
       "        vertical-align: middle;\n",
       "    }\n",
       "\n",
       "    .dataframe tbody tr th {\n",
       "        vertical-align: top;\n",
       "    }\n",
       "\n",
       "    .dataframe thead th {\n",
       "        text-align: right;\n",
       "    }\n",
       "</style>\n",
       "<table border=\"1\" class=\"dataframe\">\n",
       "  <thead>\n",
       "    <tr style=\"text-align: right;\">\n",
       "      <th></th>\n",
       "      <th>distinct_id</th>\n",
       "    </tr>\n",
       "  </thead>\n",
       "  <tbody>\n",
       "    <tr>\n",
       "      <th>0</th>\n",
       "      <td>50</td>\n",
       "    </tr>\n",
       "  </tbody>\n",
       "</table>\n",
       "</div>"
      ],
      "text/plain": [
       "   distinct_id\n",
       "0           50"
      ]
     },
     "execution_count": 5,
     "metadata": {},
     "output_type": "execute_result"
    }
   ],
   "source": [
    "%%bigquery\n",
    "select count(distinct VAERS_ID) as distinct_id from vaers_modeled.Adverse_Event_Beam"
   ]
  },
  {
   "cell_type": "markdown",
   "metadata": {},
   "source": [
    "#### Adverse_Event_Beam table is a parent table and does not have any Foreign Key"
   ]
  },
  {
   "cell_type": "markdown",
   "metadata": {},
   "source": [
    "### Standardize data in Vaccination table using Beam pipeline (Direct Runner)"
   ]
  },
  {
   "cell_type": "code",
   "execution_count": 8,
   "metadata": {
    "collapsed": true,
    "jupyter": {
     "outputs_hidden": true
    }
   },
   "outputs": [
    {
     "name": "stderr",
     "output_type": "stream",
     "text": [
      "/home/jupyter/venv/lib/python3.5/site-packages/apache_beam/io/gcp/bigquery.py:1421: BeamDeprecationWarning: options is deprecated since First stable release. References to <pipeline>.options will not be supported\n",
      "  experiments = p.options.view_as(DebugOptions).experiments or []\n",
      "INFO:apache_beam.runners.direct.direct_runner:Running pipeline with DirectRunner.\n",
      "INFO:apache_beam.io.gcp.bigquery_tools:Using location 'US' from table <TableReference\n",
      " datasetId: 'vaers_modeled'\n",
      " projectId: 'studied-brand-266702'\n",
      " tableId: 'Vaccination'> referenced by query SELECT * FROM vaers_modeled.Vaccination limit 50\n",
      "WARNING:apache_beam.io.gcp.bigquery_tools:Dataset studied-brand-266702:temp_dataset_8890ae6b6127471c8028bd10a274f2ad does not exist so we will create it as temporary with location=US\n"
     ]
    },
    {
     "name": "stdout",
     "output_type": "stream",
     "text": [
      "Current V_FUNDBY, VAX_ROUTE and VAX_SITE:  None SC LA\n",
      "New V_FUNDBY, VAX_ROUTE and VAX_SITE:  UNK SC LA\n",
      "Current V_FUNDBY, VAX_ROUTE and VAX_SITE:  None UN UN\n",
      "New V_FUNDBY, VAX_ROUTE and VAX_SITE:  UNK UN UN\n",
      "Current V_FUNDBY, VAX_ROUTE and VAX_SITE:  None UN UN\n",
      "New V_FUNDBY, VAX_ROUTE and VAX_SITE:  UNK UN UN\n",
      "Current V_FUNDBY, VAX_ROUTE and VAX_SITE:  None UN None\n",
      "New V_FUNDBY, VAX_ROUTE and VAX_SITE:  UNK UN UN\n",
      "Current V_FUNDBY, VAX_ROUTE and VAX_SITE:  PVT UN LA\n",
      "New V_FUNDBY, VAX_ROUTE and VAX_SITE:  PVT UN LA\n",
      "Current V_FUNDBY, VAX_ROUTE and VAX_SITE:  None IM LA\n",
      "New V_FUNDBY, VAX_ROUTE and VAX_SITE:  UNK IM LA\n",
      "Current V_FUNDBY, VAX_ROUTE and VAX_SITE:  None SYR RA\n",
      "New V_FUNDBY, VAX_ROUTE and VAX_SITE:  UNK SYR RA\n",
      "Current V_FUNDBY, VAX_ROUTE and VAX_SITE:  None None None\n",
      "New V_FUNDBY, VAX_ROUTE and VAX_SITE:  UNK UN UN\n",
      "Current V_FUNDBY, VAX_ROUTE and VAX_SITE:  None IM AR\n",
      "New V_FUNDBY, VAX_ROUTE and VAX_SITE:  UNK IM AR\n",
      "Current V_FUNDBY, VAX_ROUTE and VAX_SITE:  None IM LA\n",
      "New V_FUNDBY, VAX_ROUTE and VAX_SITE:  UNK IM LA\n",
      "Current V_FUNDBY, VAX_ROUTE and VAX_SITE:  None IM UN\n",
      "New V_FUNDBY, VAX_ROUTE and VAX_SITE:  UNK IM UN\n",
      "Current V_FUNDBY, VAX_ROUTE and VAX_SITE:  None UN UN\n",
      "New V_FUNDBY, VAX_ROUTE and VAX_SITE:  UNK UN UN\n",
      "Current V_FUNDBY, VAX_ROUTE and VAX_SITE:  None IM LA\n",
      "New V_FUNDBY, VAX_ROUTE and VAX_SITE:  UNK IM LA\n",
      "Current V_FUNDBY, VAX_ROUTE and VAX_SITE:  PUB IM LA\n",
      "New V_FUNDBY, VAX_ROUTE and VAX_SITE:  PUB IM LA\n",
      "Current V_FUNDBY, VAX_ROUTE and VAX_SITE:  None IM RA\n",
      "New V_FUNDBY, VAX_ROUTE and VAX_SITE:  UNK IM RA\n",
      "Current V_FUNDBY, VAX_ROUTE and VAX_SITE:  OTH UN RA\n",
      "New V_FUNDBY, VAX_ROUTE and VAX_SITE:  OTH UN RA\n",
      "Current V_FUNDBY, VAX_ROUTE and VAX_SITE:  None IM RA\n",
      "New V_FUNDBY, VAX_ROUTE and VAX_SITE:  UNK IM RA\n",
      "Current V_FUNDBY, VAX_ROUTE and VAX_SITE:  None IM RL\n",
      "New V_FUNDBY, VAX_ROUTE and VAX_SITE:  UNK IM RL\n",
      "Current V_FUNDBY, VAX_ROUTE and VAX_SITE:  None SYR LA\n",
      "New V_FUNDBY, VAX_ROUTE and VAX_SITE:  UNK SYR LA\n",
      "Current V_FUNDBY, VAX_ROUTE and VAX_SITE:  None IM LA\n",
      "New V_FUNDBY, VAX_ROUTE and VAX_SITE:  UNK IM LA\n",
      "Current V_FUNDBY, VAX_ROUTE and VAX_SITE:  None SYR RL\n",
      "New V_FUNDBY, VAX_ROUTE and VAX_SITE:  UNK SYR RL\n",
      "Current V_FUNDBY, VAX_ROUTE and VAX_SITE:  None SYR RA\n",
      "New V_FUNDBY, VAX_ROUTE and VAX_SITE:  UNK SYR RA\n",
      "Current V_FUNDBY, VAX_ROUTE and VAX_SITE:  None SC LL\n",
      "New V_FUNDBY, VAX_ROUTE and VAX_SITE:  UNK SC LL\n",
      "Current V_FUNDBY, VAX_ROUTE and VAX_SITE:  None SC RA\n",
      "New V_FUNDBY, VAX_ROUTE and VAX_SITE:  UNK SC RA\n",
      "Current V_FUNDBY, VAX_ROUTE and VAX_SITE:  None SC LA\n",
      "New V_FUNDBY, VAX_ROUTE and VAX_SITE:  UNK SC LA\n",
      "Current V_FUNDBY, VAX_ROUTE and VAX_SITE:  None UN UN\n",
      "New V_FUNDBY, VAX_ROUTE and VAX_SITE:  UNK UN UN\n",
      "Current V_FUNDBY, VAX_ROUTE and VAX_SITE:  None IM RA\n",
      "New V_FUNDBY, VAX_ROUTE and VAX_SITE:  UNK IM RA\n",
      "Current V_FUNDBY, VAX_ROUTE and VAX_SITE:  None IM RL\n",
      "New V_FUNDBY, VAX_ROUTE and VAX_SITE:  UNK IM RL\n",
      "Current V_FUNDBY, VAX_ROUTE and VAX_SITE:  None IM RA\n",
      "New V_FUNDBY, VAX_ROUTE and VAX_SITE:  UNK IM RA\n",
      "Current V_FUNDBY, VAX_ROUTE and VAX_SITE:  None UN LA\n",
      "New V_FUNDBY, VAX_ROUTE and VAX_SITE:  UNK UN LA\n",
      "Current V_FUNDBY, VAX_ROUTE and VAX_SITE:  None None None\n",
      "New V_FUNDBY, VAX_ROUTE and VAX_SITE:  UNK UN UN\n",
      "Current V_FUNDBY, VAX_ROUTE and VAX_SITE:  None SYR LA\n",
      "New V_FUNDBY, VAX_ROUTE and VAX_SITE:  UNK SYR LA\n",
      "Current V_FUNDBY, VAX_ROUTE and VAX_SITE:  None UN UN\n",
      "New V_FUNDBY, VAX_ROUTE and VAX_SITE:  UNK UN UN\n",
      "Current V_FUNDBY, VAX_ROUTE and VAX_SITE:  None UN None\n",
      "New V_FUNDBY, VAX_ROUTE and VAX_SITE:  UNK UN UN\n",
      "Current V_FUNDBY, VAX_ROUTE and VAX_SITE:  None UN UN\n",
      "New V_FUNDBY, VAX_ROUTE and VAX_SITE:  UNK UN UN\n",
      "Current V_FUNDBY, VAX_ROUTE and VAX_SITE:  None UN UN\n",
      "New V_FUNDBY, VAX_ROUTE and VAX_SITE:  UNK UN UN\n",
      "Current V_FUNDBY, VAX_ROUTE and VAX_SITE:  None UN None\n",
      "New V_FUNDBY, VAX_ROUTE and VAX_SITE:  UNK UN UN\n",
      "Current V_FUNDBY, VAX_ROUTE and VAX_SITE:  None OT None\n",
      "New V_FUNDBY, VAX_ROUTE and VAX_SITE:  UNK OT UN\n",
      "Current V_FUNDBY, VAX_ROUTE and VAX_SITE:  None None None\n",
      "New V_FUNDBY, VAX_ROUTE and VAX_SITE:  UNK UN UN\n",
      "Current V_FUNDBY, VAX_ROUTE and VAX_SITE:  None SYR AR\n",
      "New V_FUNDBY, VAX_ROUTE and VAX_SITE:  UNK SYR AR\n",
      "Current V_FUNDBY, VAX_ROUTE and VAX_SITE:  None UN LA\n",
      "New V_FUNDBY, VAX_ROUTE and VAX_SITE:  UNK UN LA\n",
      "Current V_FUNDBY, VAX_ROUTE and VAX_SITE:  None UN LL\n",
      "New V_FUNDBY, VAX_ROUTE and VAX_SITE:  UNK UN LL\n",
      "Current V_FUNDBY, VAX_ROUTE and VAX_SITE:  PUB IM UN\n",
      "New V_FUNDBY, VAX_ROUTE and VAX_SITE:  PUB IM UN\n",
      "Current V_FUNDBY, VAX_ROUTE and VAX_SITE:  None UN UN\n",
      "New V_FUNDBY, VAX_ROUTE and VAX_SITE:  UNK UN UN\n",
      "Current V_FUNDBY, VAX_ROUTE and VAX_SITE:  None None None\n",
      "New V_FUNDBY, VAX_ROUTE and VAX_SITE:  UNK UN UN\n",
      "Current V_FUNDBY, VAX_ROUTE and VAX_SITE:  None UN UN\n",
      "New V_FUNDBY, VAX_ROUTE and VAX_SITE:  UNK UN UN\n",
      "Current V_FUNDBY, VAX_ROUTE and VAX_SITE:  None OT None\n",
      "New V_FUNDBY, VAX_ROUTE and VAX_SITE:  UNK OT UN\n",
      "Current V_FUNDBY, VAX_ROUTE and VAX_SITE:  None OT LA\n",
      "New V_FUNDBY, VAX_ROUTE and VAX_SITE:  UNK OT LA\n",
      "Current V_FUNDBY, VAX_ROUTE and VAX_SITE:  None UN UN\n",
      "New V_FUNDBY, VAX_ROUTE and VAX_SITE:  UNK UN UN\n",
      "Current V_FUNDBY, VAX_ROUTE and VAX_SITE:  None SYR LA\n",
      "New V_FUNDBY, VAX_ROUTE and VAX_SITE:  UNK SYR LA\n"
     ]
    },
    {
     "name": "stderr",
     "output_type": "stream",
     "text": [
      "INFO:apache_beam.io.gcp.bigquery_tools:Created table studied-brand-266702.vaers_modeled.Vaccination_Beam with schema <TableSchema\n",
      " fields: [<TableFieldSchema\n",
      " fields: []\n",
      " mode: 'NULLABLE'\n",
      " name: 'VACCINATION_ID'\n",
      " type: 'INTEGER'>, <TableFieldSchema\n",
      " fields: []\n",
      " mode: 'NULLABLE'\n",
      " name: 'VAERS_ID'\n",
      " type: 'INTEGER'>, <TableFieldSchema\n",
      " fields: []\n",
      " mode: 'NULLABLE'\n",
      " name: 'VAX_DATE'\n",
      " type: 'DATE'>, <TableFieldSchema\n",
      " fields: []\n",
      " mode: 'NULLABLE'\n",
      " name: 'VAX_ID'\n",
      " type: 'INTEGER'>, <TableFieldSchema\n",
      " fields: []\n",
      " mode: 'NULLABLE'\n",
      " name: 'MANU_ID'\n",
      " type: 'INTEGER'>, <TableFieldSchema\n",
      " fields: []\n",
      " mode: 'NULLABLE'\n",
      " name: 'V_ADMINBY'\n",
      " type: 'STRING'>, <TableFieldSchema\n",
      " fields: []\n",
      " mode: 'NULLABLE'\n",
      " name: 'V_FUNDBY'\n",
      " type: 'STRING'>, <TableFieldSchema\n",
      " fields: []\n",
      " mode: 'NULLABLE'\n",
      " name: 'VAX_ROUTE'\n",
      " type: 'STRING'>, <TableFieldSchema\n",
      " fields: []\n",
      " mode: 'NULLABLE'\n",
      " name: 'VAX_SITE'\n",
      " type: 'STRING'>]>. Result: <Table\n",
      " creationTime: 1583449439522\n",
      " etag: 'CDjDjnSwfPA2QtdRzMgI2g=='\n",
      " id: 'studied-brand-266702:vaers_modeled.Vaccination_Beam'\n",
      " kind: 'bigquery#table'\n",
      " lastModifiedTime: 1583449439569\n",
      " location: 'US'\n",
      " numBytes: 0\n",
      " numLongTermBytes: 0\n",
      " numRows: 0\n",
      " schema: <TableSchema\n",
      " fields: [<TableFieldSchema\n",
      " fields: []\n",
      " mode: 'NULLABLE'\n",
      " name: 'VACCINATION_ID'\n",
      " type: 'INTEGER'>, <TableFieldSchema\n",
      " fields: []\n",
      " mode: 'NULLABLE'\n",
      " name: 'VAERS_ID'\n",
      " type: 'INTEGER'>, <TableFieldSchema\n",
      " fields: []\n",
      " mode: 'NULLABLE'\n",
      " name: 'VAX_DATE'\n",
      " type: 'DATE'>, <TableFieldSchema\n",
      " fields: []\n",
      " mode: 'NULLABLE'\n",
      " name: 'VAX_ID'\n",
      " type: 'INTEGER'>, <TableFieldSchema\n",
      " fields: []\n",
      " mode: 'NULLABLE'\n",
      " name: 'MANU_ID'\n",
      " type: 'INTEGER'>, <TableFieldSchema\n",
      " fields: []\n",
      " mode: 'NULLABLE'\n",
      " name: 'V_ADMINBY'\n",
      " type: 'STRING'>, <TableFieldSchema\n",
      " fields: []\n",
      " mode: 'NULLABLE'\n",
      " name: 'V_FUNDBY'\n",
      " type: 'STRING'>, <TableFieldSchema\n",
      " fields: []\n",
      " mode: 'NULLABLE'\n",
      " name: 'VAX_ROUTE'\n",
      " type: 'STRING'>, <TableFieldSchema\n",
      " fields: []\n",
      " mode: 'NULLABLE'\n",
      " name: 'VAX_SITE'\n",
      " type: 'STRING'>]>\n",
      " selfLink: 'https://www.googleapis.com/bigquery/v2/projects/studied-brand-266702/datasets/vaers_modeled/tables/Vaccination_Beam'\n",
      " tableReference: <TableReference\n",
      " datasetId: 'vaers_modeled'\n",
      " projectId: 'studied-brand-266702'\n",
      " tableId: 'Vaccination_Beam'>\n",
      " type: 'TABLE'>.\n",
      "WARNING:apache_beam.io.gcp.bigquery_tools:Sleeping for 150 seconds before the write as BigQuery inserts can be routed to deleted table for 2 mins after the delete and create.\n",
      "INFO:apache_beam.io.filebasedsink:Starting finalize_write threads with num_shards: 1 (skipped: 0), batches: 1, num_threads: 1\n",
      "INFO:apache_beam.io.filebasedsink:Renamed 1 shards in 0.10 seconds.\n",
      "INFO:apache_beam.io.filebasedsink:Starting finalize_write threads with num_shards: 1 (skipped: 0), batches: 1, num_threads: 1\n",
      "INFO:apache_beam.io.filebasedsink:Renamed 1 shards in 0.10 seconds.\n"
     ]
    }
   ],
   "source": [
    "%run Vaccination_beam.py"
   ]
  },
  {
   "cell_type": "markdown",
   "metadata": {},
   "source": [
    "### Verify presence of Primary Key in Beam result table"
   ]
  },
  {
   "cell_type": "markdown",
   "metadata": {},
   "source": [
    "#### Vaccination_Beam table: PK is VACCINATION_ID"
   ]
  },
  {
   "cell_type": "code",
   "execution_count": 11,
   "metadata": {},
   "outputs": [
    {
     "data": {
      "text/html": [
       "<div>\n",
       "<style scoped>\n",
       "    .dataframe tbody tr th:only-of-type {\n",
       "        vertical-align: middle;\n",
       "    }\n",
       "\n",
       "    .dataframe tbody tr th {\n",
       "        vertical-align: top;\n",
       "    }\n",
       "\n",
       "    .dataframe thead th {\n",
       "        text-align: right;\n",
       "    }\n",
       "</style>\n",
       "<table border=\"1\" class=\"dataframe\">\n",
       "  <thead>\n",
       "    <tr style=\"text-align: right;\">\n",
       "      <th></th>\n",
       "      <th>total_records</th>\n",
       "    </tr>\n",
       "  </thead>\n",
       "  <tbody>\n",
       "    <tr>\n",
       "      <th>0</th>\n",
       "      <td>50</td>\n",
       "    </tr>\n",
       "  </tbody>\n",
       "</table>\n",
       "</div>"
      ],
      "text/plain": [
       "   total_records\n",
       "0             50"
      ]
     },
     "execution_count": 11,
     "metadata": {},
     "output_type": "execute_result"
    }
   ],
   "source": [
    "%%bigquery\n",
    "select count(*) as total_records from vaers_modeled.Vaccination_Beam"
   ]
  },
  {
   "cell_type": "code",
   "execution_count": 12,
   "metadata": {},
   "outputs": [
    {
     "data": {
      "text/html": [
       "<div>\n",
       "<style scoped>\n",
       "    .dataframe tbody tr th:only-of-type {\n",
       "        vertical-align: middle;\n",
       "    }\n",
       "\n",
       "    .dataframe tbody tr th {\n",
       "        vertical-align: top;\n",
       "    }\n",
       "\n",
       "    .dataframe thead th {\n",
       "        text-align: right;\n",
       "    }\n",
       "</style>\n",
       "<table border=\"1\" class=\"dataframe\">\n",
       "  <thead>\n",
       "    <tr style=\"text-align: right;\">\n",
       "      <th></th>\n",
       "      <th>distinct_id</th>\n",
       "    </tr>\n",
       "  </thead>\n",
       "  <tbody>\n",
       "    <tr>\n",
       "      <th>0</th>\n",
       "      <td>50</td>\n",
       "    </tr>\n",
       "  </tbody>\n",
       "</table>\n",
       "</div>"
      ],
      "text/plain": [
       "   distinct_id\n",
       "0           50"
      ]
     },
     "execution_count": 12,
     "metadata": {},
     "output_type": "execute_result"
    }
   ],
   "source": [
    "%%bigquery\n",
    "select count(distinct VACCINATION_ID) as distinct_id from vaers_modeled.Vaccination_Beam"
   ]
  },
  {
   "cell_type": "markdown",
   "metadata": {},
   "source": [
    "#### Vaccination_Beam table: FK is VAERS_ID from Adverse_Event table"
   ]
  },
  {
   "cell_type": "code",
   "execution_count": 20,
   "metadata": {},
   "outputs": [
    {
     "data": {
      "text/html": [
       "<div>\n",
       "<style scoped>\n",
       "    .dataframe tbody tr th:only-of-type {\n",
       "        vertical-align: middle;\n",
       "    }\n",
       "\n",
       "    .dataframe tbody tr th {\n",
       "        vertical-align: top;\n",
       "    }\n",
       "\n",
       "    .dataframe thead th {\n",
       "        text-align: right;\n",
       "    }\n",
       "</style>\n",
       "<table border=\"1\" class=\"dataframe\">\n",
       "  <thead>\n",
       "    <tr style=\"text-align: right;\">\n",
       "      <th></th>\n",
       "      <th>count_of_invalid_FK</th>\n",
       "    </tr>\n",
       "  </thead>\n",
       "  <tbody>\n",
       "    <tr>\n",
       "      <th>0</th>\n",
       "      <td>0</td>\n",
       "    </tr>\n",
       "  </tbody>\n",
       "</table>\n",
       "</div>"
      ],
      "text/plain": [
       "   count_of_invalid_FK\n",
       "0                    0"
      ]
     },
     "execution_count": 20,
     "metadata": {},
     "output_type": "execute_result"
    }
   ],
   "source": [
    "%%bigquery\n",
    "select count(*) as count_of_invalid_FK \n",
    "from vaers_modeled.Vaccination_Beam v left join vaers_modeled.Adverse_Event e on e.VAERS_ID = v.VAERS_ID \n",
    "where e.VAERS_ID is null "
   ]
  },
  {
   "cell_type": "markdown",
   "metadata": {},
   "source": [
    "#### Vaccination_Beam table: FK is VAX_ID from Vaccine table"
   ]
  },
  {
   "cell_type": "code",
   "execution_count": 26,
   "metadata": {},
   "outputs": [
    {
     "data": {
      "text/html": [
       "<div>\n",
       "<style scoped>\n",
       "    .dataframe tbody tr th:only-of-type {\n",
       "        vertical-align: middle;\n",
       "    }\n",
       "\n",
       "    .dataframe tbody tr th {\n",
       "        vertical-align: top;\n",
       "    }\n",
       "\n",
       "    .dataframe thead th {\n",
       "        text-align: right;\n",
       "    }\n",
       "</style>\n",
       "<table border=\"1\" class=\"dataframe\">\n",
       "  <thead>\n",
       "    <tr style=\"text-align: right;\">\n",
       "      <th></th>\n",
       "      <th>count_of_invalid_FK</th>\n",
       "    </tr>\n",
       "  </thead>\n",
       "  <tbody>\n",
       "    <tr>\n",
       "      <th>0</th>\n",
       "      <td>0</td>\n",
       "    </tr>\n",
       "  </tbody>\n",
       "</table>\n",
       "</div>"
      ],
      "text/plain": [
       "   count_of_invalid_FK\n",
       "0                    0"
      ]
     },
     "execution_count": 26,
     "metadata": {},
     "output_type": "execute_result"
    }
   ],
   "source": [
    "%%bigquery\n",
    "select count(*) as count_of_invalid_FK \n",
    "from vaers_modeled.Vaccination_Beam v left join vaers_modeled.Vaccine va on va.VAX_ID = v.VAX_ID \n",
    "where va.VAX_ID is null "
   ]
  },
  {
   "cell_type": "markdown",
   "metadata": {},
   "source": [
    "#### Vaccination_Beam table: FK is MANU_ID from Manufacturer table"
   ]
  },
  {
   "cell_type": "code",
   "execution_count": 24,
   "metadata": {},
   "outputs": [
    {
     "data": {
      "text/html": [
       "<div>\n",
       "<style scoped>\n",
       "    .dataframe tbody tr th:only-of-type {\n",
       "        vertical-align: middle;\n",
       "    }\n",
       "\n",
       "    .dataframe tbody tr th {\n",
       "        vertical-align: top;\n",
       "    }\n",
       "\n",
       "    .dataframe thead th {\n",
       "        text-align: right;\n",
       "    }\n",
       "</style>\n",
       "<table border=\"1\" class=\"dataframe\">\n",
       "  <thead>\n",
       "    <tr style=\"text-align: right;\">\n",
       "      <th></th>\n",
       "      <th>count_of_invalid_FK</th>\n",
       "    </tr>\n",
       "  </thead>\n",
       "  <tbody>\n",
       "    <tr>\n",
       "      <th>0</th>\n",
       "      <td>0</td>\n",
       "    </tr>\n",
       "  </tbody>\n",
       "</table>\n",
       "</div>"
      ],
      "text/plain": [
       "   count_of_invalid_FK\n",
       "0                    0"
      ]
     },
     "execution_count": 24,
     "metadata": {},
     "output_type": "execute_result"
    }
   ],
   "source": [
    "%%bigquery\n",
    "select count(*) as count_of_invalid_FK \n",
    "from vaers_modeled.Vaccination_Beam v left join vaers_modeled.Manufacturer m on m.MANU_ID = v.MANU_ID \n",
    "where m.MANU_ID is null "
   ]
  },
  {
   "cell_type": "markdown",
   "metadata": {},
   "source": [
    "### Standardize data in Adverse_Event table using Beam pipeline (Dataflow Runner)"
   ]
  },
  {
   "cell_type": "code",
   "execution_count": 1,
   "metadata": {},
   "outputs": [
    {
     "name": "stderr",
     "output_type": "stream",
     "text": [
      "/home/jupyter/venv/lib/python3.5/site-packages/apache_beam/runners/dataflow/dataflow_runner.py:740: BeamDeprecationWarning: BigQuerySink is deprecated since 2.11.0. Use WriteToBigQuery instead.\n",
      "  kms_key=transform.kms_key))\n"
     ]
    }
   ],
   "source": [
    "%run Adverse_Event_beam_dataflow.py"
   ]
  },
  {
   "cell_type": "markdown",
   "metadata": {},
   "source": [
    "### Verify presence of Primary Key in Beam result table"
   ]
  },
  {
   "cell_type": "markdown",
   "metadata": {},
   "source": [
    "#### Adverse_Event_Beam_DF table: PK is VAERS_ID"
   ]
  },
  {
   "cell_type": "code",
   "execution_count": 6,
   "metadata": {},
   "outputs": [
    {
     "data": {
      "text/html": [
       "<div>\n",
       "<style scoped>\n",
       "    .dataframe tbody tr th:only-of-type {\n",
       "        vertical-align: middle;\n",
       "    }\n",
       "\n",
       "    .dataframe tbody tr th {\n",
       "        vertical-align: top;\n",
       "    }\n",
       "\n",
       "    .dataframe thead th {\n",
       "        text-align: right;\n",
       "    }\n",
       "</style>\n",
       "<table border=\"1\" class=\"dataframe\">\n",
       "  <thead>\n",
       "    <tr style=\"text-align: right;\">\n",
       "      <th></th>\n",
       "      <th>total_records</th>\n",
       "    </tr>\n",
       "  </thead>\n",
       "  <tbody>\n",
       "    <tr>\n",
       "      <th>0</th>\n",
       "      <td>44344</td>\n",
       "    </tr>\n",
       "  </tbody>\n",
       "</table>\n",
       "</div>"
      ],
      "text/plain": [
       "   total_records\n",
       "0          44344"
      ]
     },
     "execution_count": 6,
     "metadata": {},
     "output_type": "execute_result"
    }
   ],
   "source": [
    "%%bigquery\n",
    "select count(*) as total_records from vaers_modeled.Adverse_Event_Beam_DF"
   ]
  },
  {
   "cell_type": "code",
   "execution_count": 7,
   "metadata": {},
   "outputs": [
    {
     "data": {
      "text/html": [
       "<div>\n",
       "<style scoped>\n",
       "    .dataframe tbody tr th:only-of-type {\n",
       "        vertical-align: middle;\n",
       "    }\n",
       "\n",
       "    .dataframe tbody tr th {\n",
       "        vertical-align: top;\n",
       "    }\n",
       "\n",
       "    .dataframe thead th {\n",
       "        text-align: right;\n",
       "    }\n",
       "</style>\n",
       "<table border=\"1\" class=\"dataframe\">\n",
       "  <thead>\n",
       "    <tr style=\"text-align: right;\">\n",
       "      <th></th>\n",
       "      <th>distinct_id</th>\n",
       "    </tr>\n",
       "  </thead>\n",
       "  <tbody>\n",
       "    <tr>\n",
       "      <th>0</th>\n",
       "      <td>44344</td>\n",
       "    </tr>\n",
       "  </tbody>\n",
       "</table>\n",
       "</div>"
      ],
      "text/plain": [
       "   distinct_id\n",
       "0        44344"
      ]
     },
     "execution_count": 7,
     "metadata": {},
     "output_type": "execute_result"
    }
   ],
   "source": [
    "%%bigquery\n",
    "select count(distinct VAERS_ID) as distinct_id from vaers_modeled.Adverse_Event_Beam_DF"
   ]
  },
  {
   "cell_type": "markdown",
   "metadata": {},
   "source": [
    "#### Adverse_Event_Beam_DF table is a parent table and does not have any Foreign Key"
   ]
  },
  {
   "cell_type": "markdown",
   "metadata": {},
   "source": [
    "### Standardize data in Vaccination table using Beam pipeline (Dataflow Runner)"
   ]
  },
  {
   "cell_type": "code",
   "execution_count": 4,
   "metadata": {},
   "outputs": [
    {
     "name": "stderr",
     "output_type": "stream",
     "text": [
      "/home/jupyter/venv/lib/python3.5/site-packages/apache_beam/runners/dataflow/dataflow_runner.py:740: BeamDeprecationWarning: BigQuerySink is deprecated since 2.11.0. Use WriteToBigQuery instead.\n",
      "  kms_key=transform.kms_key))\n"
     ]
    }
   ],
   "source": [
    "%run Vaccination_beam_dataflow.py"
   ]
  },
  {
   "cell_type": "markdown",
   "metadata": {},
   "source": [
    "### Verify presence of Primary Key in Beam result table"
   ]
  },
  {
   "cell_type": "markdown",
   "metadata": {},
   "source": [
    "#### Vaccination_Beam_DF table: PK is VACCINATION_ID"
   ]
  },
  {
   "cell_type": "code",
   "execution_count": 1,
   "metadata": {},
   "outputs": [
    {
     "data": {
      "text/html": [
       "<div>\n",
       "<style scoped>\n",
       "    .dataframe tbody tr th:only-of-type {\n",
       "        vertical-align: middle;\n",
       "    }\n",
       "\n",
       "    .dataframe tbody tr th {\n",
       "        vertical-align: top;\n",
       "    }\n",
       "\n",
       "    .dataframe thead th {\n",
       "        text-align: right;\n",
       "    }\n",
       "</style>\n",
       "<table border=\"1\" class=\"dataframe\">\n",
       "  <thead>\n",
       "    <tr style=\"text-align: right;\">\n",
       "      <th></th>\n",
       "      <th>total_records</th>\n",
       "    </tr>\n",
       "  </thead>\n",
       "  <tbody>\n",
       "    <tr>\n",
       "      <th>0</th>\n",
       "      <td>55942</td>\n",
       "    </tr>\n",
       "  </tbody>\n",
       "</table>\n",
       "</div>"
      ],
      "text/plain": [
       "   total_records\n",
       "0          55942"
      ]
     },
     "execution_count": 1,
     "metadata": {},
     "output_type": "execute_result"
    }
   ],
   "source": [
    "%%bigquery\n",
    "select count(*) as total_records from vaers_modeled.Vaccination_Beam_DF"
   ]
  },
  {
   "cell_type": "code",
   "execution_count": 2,
   "metadata": {},
   "outputs": [
    {
     "data": {
      "text/html": [
       "<div>\n",
       "<style scoped>\n",
       "    .dataframe tbody tr th:only-of-type {\n",
       "        vertical-align: middle;\n",
       "    }\n",
       "\n",
       "    .dataframe tbody tr th {\n",
       "        vertical-align: top;\n",
       "    }\n",
       "\n",
       "    .dataframe thead th {\n",
       "        text-align: right;\n",
       "    }\n",
       "</style>\n",
       "<table border=\"1\" class=\"dataframe\">\n",
       "  <thead>\n",
       "    <tr style=\"text-align: right;\">\n",
       "      <th></th>\n",
       "      <th>distinct_id</th>\n",
       "    </tr>\n",
       "  </thead>\n",
       "  <tbody>\n",
       "    <tr>\n",
       "      <th>0</th>\n",
       "      <td>55942</td>\n",
       "    </tr>\n",
       "  </tbody>\n",
       "</table>\n",
       "</div>"
      ],
      "text/plain": [
       "   distinct_id\n",
       "0        55942"
      ]
     },
     "execution_count": 2,
     "metadata": {},
     "output_type": "execute_result"
    }
   ],
   "source": [
    "%%bigquery\n",
    "select count(distinct VACCINATION_ID) as distinct_id from vaers_modeled.Vaccination_Beam_DF"
   ]
  },
  {
   "cell_type": "markdown",
   "metadata": {},
   "source": [
    "#### Vaccination_Beam_DF table: FK is VAERS_ID from Adverse_Event table"
   ]
  },
  {
   "cell_type": "code",
   "execution_count": 3,
   "metadata": {},
   "outputs": [
    {
     "data": {
      "text/html": [
       "<div>\n",
       "<style scoped>\n",
       "    .dataframe tbody tr th:only-of-type {\n",
       "        vertical-align: middle;\n",
       "    }\n",
       "\n",
       "    .dataframe tbody tr th {\n",
       "        vertical-align: top;\n",
       "    }\n",
       "\n",
       "    .dataframe thead th {\n",
       "        text-align: right;\n",
       "    }\n",
       "</style>\n",
       "<table border=\"1\" class=\"dataframe\">\n",
       "  <thead>\n",
       "    <tr style=\"text-align: right;\">\n",
       "      <th></th>\n",
       "      <th>count_of_invalid_FK</th>\n",
       "    </tr>\n",
       "  </thead>\n",
       "  <tbody>\n",
       "    <tr>\n",
       "      <th>0</th>\n",
       "      <td>0</td>\n",
       "    </tr>\n",
       "  </tbody>\n",
       "</table>\n",
       "</div>"
      ],
      "text/plain": [
       "   count_of_invalid_FK\n",
       "0                    0"
      ]
     },
     "execution_count": 3,
     "metadata": {},
     "output_type": "execute_result"
    }
   ],
   "source": [
    "%%bigquery\n",
    "select count(*) as count_of_invalid_FK \n",
    "from vaers_modeled.Vaccination_Beam_DF v left join vaers_modeled.Adverse_Event e on e.VAERS_ID = v.VAERS_ID \n",
    "where e.VAERS_ID is null "
   ]
  },
  {
   "cell_type": "markdown",
   "metadata": {},
   "source": [
    "#### Vaccination_Beam_DF table: FK is VAX_ID from Vaccine table"
   ]
  },
  {
   "cell_type": "code",
   "execution_count": 4,
   "metadata": {},
   "outputs": [
    {
     "data": {
      "text/html": [
       "<div>\n",
       "<style scoped>\n",
       "    .dataframe tbody tr th:only-of-type {\n",
       "        vertical-align: middle;\n",
       "    }\n",
       "\n",
       "    .dataframe tbody tr th {\n",
       "        vertical-align: top;\n",
       "    }\n",
       "\n",
       "    .dataframe thead th {\n",
       "        text-align: right;\n",
       "    }\n",
       "</style>\n",
       "<table border=\"1\" class=\"dataframe\">\n",
       "  <thead>\n",
       "    <tr style=\"text-align: right;\">\n",
       "      <th></th>\n",
       "      <th>count_of_invalid_FK</th>\n",
       "    </tr>\n",
       "  </thead>\n",
       "  <tbody>\n",
       "    <tr>\n",
       "      <th>0</th>\n",
       "      <td>0</td>\n",
       "    </tr>\n",
       "  </tbody>\n",
       "</table>\n",
       "</div>"
      ],
      "text/plain": [
       "   count_of_invalid_FK\n",
       "0                    0"
      ]
     },
     "execution_count": 4,
     "metadata": {},
     "output_type": "execute_result"
    }
   ],
   "source": [
    "%%bigquery\n",
    "select count(*) as count_of_invalid_FK \n",
    "from vaers_modeled.Vaccination_Beam_DF v left join vaers_modeled.Vaccine va on va.VAX_ID = v.VAX_ID \n",
    "where va.VAX_ID is null "
   ]
  },
  {
   "cell_type": "markdown",
   "metadata": {},
   "source": [
    "#### Vaccination_Beam_DF table: FK is MANU_ID from Manufacturer table"
   ]
  },
  {
   "cell_type": "code",
   "execution_count": 5,
   "metadata": {},
   "outputs": [
    {
     "data": {
      "text/html": [
       "<div>\n",
       "<style scoped>\n",
       "    .dataframe tbody tr th:only-of-type {\n",
       "        vertical-align: middle;\n",
       "    }\n",
       "\n",
       "    .dataframe tbody tr th {\n",
       "        vertical-align: top;\n",
       "    }\n",
       "\n",
       "    .dataframe thead th {\n",
       "        text-align: right;\n",
       "    }\n",
       "</style>\n",
       "<table border=\"1\" class=\"dataframe\">\n",
       "  <thead>\n",
       "    <tr style=\"text-align: right;\">\n",
       "      <th></th>\n",
       "      <th>count_of_invalid_FK</th>\n",
       "    </tr>\n",
       "  </thead>\n",
       "  <tbody>\n",
       "    <tr>\n",
       "      <th>0</th>\n",
       "      <td>0</td>\n",
       "    </tr>\n",
       "  </tbody>\n",
       "</table>\n",
       "</div>"
      ],
      "text/plain": [
       "   count_of_invalid_FK\n",
       "0                    0"
      ]
     },
     "execution_count": 5,
     "metadata": {},
     "output_type": "execute_result"
    }
   ],
   "source": [
    "%%bigquery\n",
    "select count(*) as count_of_invalid_FK \n",
    "from vaers_modeled.Vaccination_Beam_DF v left join vaers_modeled.Manufacturer m on m.MANU_ID = v.MANU_ID \n",
    "where m.MANU_ID is null "
   ]
  }
 ],
 "metadata": {
  "kernelspec": {
   "display_name": "Python (beam_venv)",
   "language": "python",
   "name": "beam_venv_kernel"
  },
  "language_info": {
   "codemirror_mode": {
    "name": "ipython",
    "version": 3
   },
   "file_extension": ".py",
   "mimetype": "text/x-python",
   "name": "python",
   "nbconvert_exporter": "python",
   "pygments_lexer": "ipython3",
   "version": "3.5.3"
  }
 },
 "nbformat": 4,
 "nbformat_minor": 4
}
