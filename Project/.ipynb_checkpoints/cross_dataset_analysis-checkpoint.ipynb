{
 "cells": [
  {
   "cell_type": "markdown",
   "metadata": {},
   "source": [
    "## Cross-Dataset Analysis"
   ]
  },
  {
   "cell_type": "code",
   "execution_count": 1,
   "metadata": {},
   "outputs": [
    {
     "name": "stdout",
     "output_type": "stream",
     "text": [
      "Dataset 'studied-brand-266702:reporting' successfully created.\n"
     ]
    }
   ],
   "source": [
    "dataset_id = \" reporting\"\n",
    "!bq --location=US mk --dataset {dataset_id}"
   ]
  },
  {
   "cell_type": "markdown",
   "metadata": {},
   "source": [
    "### Implementation of cross-dataset queries"
   ]
  },
  {
   "cell_type": "markdown",
   "metadata": {},
   "source": [
    "#### Query #1: Compare number of adverse events grouped by age, through a full outer join between drug dataset (dataset 2) and vaccine dataset (dataset 1)  "
   ]
  },
  {
   "cell_type": "code",
   "execution_count": 55,
   "metadata": {},
   "outputs": [
    {
     "data": {
      "text/html": [
       "<div>\n",
       "<style scoped>\n",
       "    .dataframe tbody tr th:only-of-type {\n",
       "        vertical-align: middle;\n",
       "    }\n",
       "\n",
       "    .dataframe tbody tr th {\n",
       "        vertical-align: top;\n",
       "    }\n",
       "\n",
       "    .dataframe thead th {\n",
       "        text-align: right;\n",
       "    }\n",
       "</style>\n",
       "<table border=\"1\" class=\"dataframe\">\n",
       "  <thead>\n",
       "    <tr style=\"text-align: right;\">\n",
       "      <th></th>\n",
       "      <th>Age</th>\n",
       "      <th>Drug_Cases</th>\n",
       "      <th>Vaccine_Cases</th>\n",
       "    </tr>\n",
       "  </thead>\n",
       "  <tbody>\n",
       "    <tr>\n",
       "      <th>0</th>\n",
       "      <td>0</td>\n",
       "      <td>428</td>\n",
       "      <td>957.0</td>\n",
       "    </tr>\n",
       "    <tr>\n",
       "      <th>1</th>\n",
       "      <td>1</td>\n",
       "      <td>275</td>\n",
       "      <td>1733.0</td>\n",
       "    </tr>\n",
       "    <tr>\n",
       "      <th>2</th>\n",
       "      <td>2</td>\n",
       "      <td>321</td>\n",
       "      <td>671.0</td>\n",
       "    </tr>\n",
       "    <tr>\n",
       "      <th>3</th>\n",
       "      <td>3</td>\n",
       "      <td>249</td>\n",
       "      <td>302.0</td>\n",
       "    </tr>\n",
       "    <tr>\n",
       "      <th>4</th>\n",
       "      <td>4</td>\n",
       "      <td>213</td>\n",
       "      <td>888.0</td>\n",
       "    </tr>\n",
       "    <tr>\n",
       "      <th>...</th>\n",
       "      <td>...</td>\n",
       "      <td>...</td>\n",
       "      <td>...</td>\n",
       "    </tr>\n",
       "    <tr>\n",
       "      <th>101</th>\n",
       "      <td>101</td>\n",
       "      <td>5</td>\n",
       "      <td>NaN</td>\n",
       "    </tr>\n",
       "    <tr>\n",
       "      <th>102</th>\n",
       "      <td>102</td>\n",
       "      <td>2</td>\n",
       "      <td>1.0</td>\n",
       "    </tr>\n",
       "    <tr>\n",
       "      <th>103</th>\n",
       "      <td>103</td>\n",
       "      <td>1</td>\n",
       "      <td>1.0</td>\n",
       "    </tr>\n",
       "    <tr>\n",
       "      <th>104</th>\n",
       "      <td>106</td>\n",
       "      <td>1</td>\n",
       "      <td>NaN</td>\n",
       "    </tr>\n",
       "    <tr>\n",
       "      <th>105</th>\n",
       "      <td>117</td>\n",
       "      <td>1</td>\n",
       "      <td>NaN</td>\n",
       "    </tr>\n",
       "  </tbody>\n",
       "</table>\n",
       "<p>106 rows × 3 columns</p>\n",
       "</div>"
      ],
      "text/plain": [
       "     Age  Drug_Cases  Vaccine_Cases\n",
       "0      0         428          957.0\n",
       "1      1         275         1733.0\n",
       "2      2         321          671.0\n",
       "3      3         249          302.0\n",
       "4      4         213          888.0\n",
       "..   ...         ...            ...\n",
       "101  101           5            NaN\n",
       "102  102           2            1.0\n",
       "103  103           1            1.0\n",
       "104  106           1            NaN\n",
       "105  117           1            NaN\n",
       "\n",
       "[106 rows x 3 columns]"
      ]
     },
     "execution_count": 55,
     "metadata": {},
     "output_type": "execute_result"
    }
   ],
   "source": [
    "%%bigquery\n",
    "select faers.Age, Drug_Cases, Vaccine_Cases\n",
    "from \n",
    "(select AGE_YRS as Age, count(DISTINCT p.CASE_ID) as Drug_Cases\n",
    "from faers_modeled.Patient_SQL_Final p inner join faers_modeled.Adverse_Event e on p.CASE_ID = e.CASE_ID\n",
    "where COUNTRY = 'US'\n",
    "group by AGE_YRS) faers\n",
    "full join\n",
    "(select AGE_YRS as Age, count(DISTINCT p.VAERS_ID) as Vaccine_Cases\n",
    "from vaers_modeled.Patient p inner join vaers_modeled.Adverse_Event e on p.VAERS_ID = e.VAERS_ID\n",
    "group by AGE_YRS) vaers\n",
    "on faers.Age = vaers.Age\n",
    "where faers.Age is not null\n",
    "order by Age"
   ]
  },
  {
   "cell_type": "markdown",
   "metadata": {},
   "source": [
    "#### Create database view from cross-dataset query above (Age vs Drug_Cases and Vaccine_Cases) for Google Data Studio."
   ]
  },
  {
   "cell_type": "code",
   "execution_count": 60,
   "metadata": {},
   "outputs": [
    {
     "data": {
      "text/html": [
       "<div>\n",
       "<style scoped>\n",
       "    .dataframe tbody tr th:only-of-type {\n",
       "        vertical-align: middle;\n",
       "    }\n",
       "\n",
       "    .dataframe tbody tr th {\n",
       "        vertical-align: top;\n",
       "    }\n",
       "\n",
       "    .dataframe thead th {\n",
       "        text-align: right;\n",
       "    }\n",
       "</style>\n",
       "<table border=\"1\" class=\"dataframe\">\n",
       "  <thead>\n",
       "    <tr style=\"text-align: right;\">\n",
       "      <th></th>\n",
       "    </tr>\n",
       "  </thead>\n",
       "  <tbody>\n",
       "  </tbody>\n",
       "</table>\n",
       "</div>"
      ],
      "text/plain": [
       "Empty DataFrame\n",
       "Columns: []\n",
       "Index: []"
      ]
     },
     "execution_count": 60,
     "metadata": {},
     "output_type": "execute_result"
    }
   ],
   "source": [
    "%%bigquery\n",
    "create or replace view reporting.Cases_By_Age as\n",
    "select faers.Age, Drug_Cases, Vaccine_Cases\n",
    "from \n",
    "(select AGE_YRS as Age, count(DISTINCT p.CASE_ID) as Drug_Cases\n",
    "from studied-brand-266702.faers_modeled.Patient_SQL_Final p inner join studied-brand-266702.faers_modeled.Adverse_Event e on p.CASE_ID = e.CASE_ID\n",
    "where COUNTRY = 'US'\n",
    "group by AGE_YRS) faers\n",
    "full join\n",
    "(select AGE_YRS as Age, count(DISTINCT p.VAERS_ID) as Vaccine_Cases\n",
    "from studied-brand-266702.vaers_modeled.Patient p inner join studied-brand-266702.vaers_modeled.Adverse_Event e on p.VAERS_ID = e.VAERS_ID\n",
    "group by AGE_YRS) vaers\n",
    "on faers.Age = vaers.Age\n",
    "where faers.Age is not null\n",
    "order by Age"
   ]
  },
  {
   "cell_type": "code",
   "execution_count": null,
   "metadata": {},
   "outputs": [],
   "source": []
  }
 ],
 "metadata": {
  "kernelspec": {
   "display_name": "Python 3",
   "language": "python",
   "name": "python3"
  },
  "language_info": {
   "codemirror_mode": {
    "name": "ipython",
    "version": 3
   },
   "file_extension": ".py",
   "mimetype": "text/x-python",
   "name": "python",
   "nbconvert_exporter": "python",
   "pygments_lexer": "ipython3",
   "version": "3.5.3"
  }
 },
 "nbformat": 4,
 "nbformat_minor": 4
}
